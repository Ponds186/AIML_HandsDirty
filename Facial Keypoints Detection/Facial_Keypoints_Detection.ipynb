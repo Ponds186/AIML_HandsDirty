{
  "nbformat": 4,
  "nbformat_minor": 0,
  "metadata": {
    "colab": {
      "name": "Facial Keypoints Detection",
      "provenance": [],
      "collapsed_sections": []
    },
    "kernelspec": {
      "name": "python3",
      "display_name": "Python 3"
    },
    "accelerator": "GPU"
  },
  "cells": [
    {
      "cell_type": "code",
      "metadata": {
        "id": "oyE9_jktxJr3",
        "colab_type": "code",
        "outputId": "c3dc2e71-acb0-4403-fcfe-40e1f8d9890d",
        "colab": {
          "resources": {
            "http://localhost:8080/nbextensions/google.colab/files.js": {
              "data": "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",
              "ok": true,
              "headers": [
                [
                  "content-type",
                  "application/javascript"
                ]
              ],
              "status": 200,
              "status_text": ""
            }
          },
          "base_uri": "https://localhost:8080/",
          "height": 58
        }
      },
      "source": [
        "# Let's import the files\n",
        "from google.colab import files\n",
        "files.upload()"
      ],
      "execution_count": 0,
      "outputs": [
        {
          "output_type": "display_data",
          "data": {
            "text/html": [
              "\n",
              "     <input type=\"file\" id=\"files-40105834-1903-4852-b8cf-2e09986dc79c\" name=\"files[]\" multiple disabled />\n",
              "     <output id=\"result-40105834-1903-4852-b8cf-2e09986dc79c\">\n",
              "      Upload widget is only available when the cell has been executed in the\n",
              "      current browser session. Please rerun this cell to enable.\n",
              "      </output>\n",
              "      <script src=\"/nbextensions/google.colab/files.js\"></script> "
            ],
            "text/plain": [
              "<IPython.core.display.HTML object>"
            ]
          },
          "metadata": {
            "tags": []
          }
        },
        {
          "output_type": "execute_result",
          "data": {
            "text/plain": [
              "{}"
            ]
          },
          "metadata": {
            "tags": []
          },
          "execution_count": 1
        }
      ]
    },
    {
      "cell_type": "code",
      "metadata": {
        "id": "LOAW6ywGxWCm",
        "colab_type": "code",
        "outputId": "1ea0447e-68a2-4e5c-8ac5-72af60c11f6c",
        "colab": {
          "base_uri": "https://localhost:8080/",
          "height": 34
        }
      },
      "source": [
        "# Let's mount the drive\n",
        "from google.colab import drive\n",
        "drive.mount('/content/drive')"
      ],
      "execution_count": 1,
      "outputs": [
        {
          "output_type": "stream",
          "text": [
            "Drive already mounted at /content/drive; to attempt to forcibly remount, call drive.mount(\"/content/drive\", force_remount=True).\n"
          ],
          "name": "stdout"
        }
      ]
    },
    {
      "cell_type": "code",
      "metadata": {
        "id": "-DxBqdenzmQN",
        "colab_type": "code",
        "colab": {}
      },
      "source": [
        "import numpy as np\n",
        "import matplotlib.pyplot as plt\n",
        "import pandas as pd\n",
        "from IPython.display import clear_output\n",
        "from time import sleep\n",
        "import os"
      ],
      "execution_count": 0,
      "outputs": []
    },
    {
      "cell_type": "code",
      "metadata": {
        "id": "QO6rDftXzcPq",
        "colab_type": "code",
        "colab": {}
      },
      "source": [
        "lookIdDir = \"/content/drive/My Drive/Data/FacialDetection/IdLookupTable.csv\"\n",
        "trainDir = \"/content/drive/My Drive/Data/FacialDetection/training.csv\"\n",
        "testDir = \"/content/drive/My Drive/Data/FacialDetection/test.csv\""
      ],
      "execution_count": 0,
      "outputs": []
    },
    {
      "cell_type": "code",
      "metadata": {
        "id": "XBK3GNv0z5YS",
        "colab_type": "code",
        "colab": {}
      },
      "source": [
        "train_data = pd.read_csv(trainDir)\n",
        "test_data = pd.read_csv(testDir)\n",
        "lookid_data = pd.read_csv(lookIdDir)"
      ],
      "execution_count": 0,
      "outputs": []
    },
    {
      "cell_type": "code",
      "metadata": {
        "id": "_gA8UvVs1r1A",
        "colab_type": "code",
        "outputId": "a42f210f-0666-418b-b4e2-1276138dd0b9",
        "colab": {
          "base_uri": "https://localhost:8080/",
          "height": 67
        }
      },
      "source": [
        "print(train_data.shape)\n",
        "print(test_data.shape)\n",
        "print(lookid_data.shape)"
      ],
      "execution_count": 5,
      "outputs": [
        {
          "output_type": "stream",
          "text": [
            "(7049, 31)\n",
            "(1783, 2)\n",
            "(27124, 4)\n"
          ],
          "name": "stdout"
        }
      ]
    },
    {
      "cell_type": "code",
      "metadata": {
        "id": "v0cLQSQT0VOd",
        "colab_type": "code",
        "outputId": "080f9aef-7c4e-40b8-de2e-fc83480ac32e",
        "colab": {
          "base_uri": "https://localhost:8080/",
          "height": 622
        }
      },
      "source": [
        "#Some serious missing column values. I cannot even drop them. What to do ?\n",
        "print(train_data.isnull().sum(),'\\n')\n",
        "train_data.isnull().any().value_counts()"
      ],
      "execution_count": 6,
      "outputs": [
        {
          "output_type": "stream",
          "text": [
            "left_eye_center_x              10\n",
            "left_eye_center_y              10\n",
            "right_eye_center_x             13\n",
            "right_eye_center_y             13\n",
            "left_eye_inner_corner_x      4778\n",
            "left_eye_inner_corner_y      4778\n",
            "left_eye_outer_corner_x      4782\n",
            "left_eye_outer_corner_y      4782\n",
            "right_eye_inner_corner_x     4781\n",
            "right_eye_inner_corner_y     4781\n",
            "right_eye_outer_corner_x     4781\n",
            "right_eye_outer_corner_y     4781\n",
            "left_eyebrow_inner_end_x     4779\n",
            "left_eyebrow_inner_end_y     4779\n",
            "left_eyebrow_outer_end_x     4824\n",
            "left_eyebrow_outer_end_y     4824\n",
            "right_eyebrow_inner_end_x    4779\n",
            "right_eyebrow_inner_end_y    4779\n",
            "right_eyebrow_outer_end_x    4813\n",
            "right_eyebrow_outer_end_y    4813\n",
            "nose_tip_x                      0\n",
            "nose_tip_y                      0\n",
            "mouth_left_corner_x          4780\n",
            "mouth_left_corner_y          4780\n",
            "mouth_right_corner_x         4779\n",
            "mouth_right_corner_y         4779\n",
            "mouth_center_top_lip_x       4774\n",
            "mouth_center_top_lip_y       4774\n",
            "mouth_center_bottom_lip_x      33\n",
            "mouth_center_bottom_lip_y      33\n",
            "Image                           0\n",
            "dtype: int64 \n",
            "\n"
          ],
          "name": "stdout"
        },
        {
          "output_type": "execute_result",
          "data": {
            "text/plain": [
              "True     28\n",
              "False     3\n",
              "dtype: int64"
            ]
          },
          "metadata": {
            "tags": []
          },
          "execution_count": 6
        }
      ]
    },
    {
      "cell_type": "code",
      "metadata": {
        "id": "_pvkRpPq2rKO",
        "colab_type": "code",
        "outputId": "612334f6-2445-4794-81ad-01fcbd67d508",
        "colab": {
          "base_uri": "https://localhost:8080/",
          "height": 1000
        }
      },
      "source": [
        "train_data.sample(15).T"
      ],
      "execution_count": 7,
      "outputs": [
        {
          "output_type": "execute_result",
          "data": {
            "text/html": [
              "<div>\n",
              "<style scoped>\n",
              "    .dataframe tbody tr th:only-of-type {\n",
              "        vertical-align: middle;\n",
              "    }\n",
              "\n",
              "    .dataframe tbody tr th {\n",
              "        vertical-align: top;\n",
              "    }\n",
              "\n",
              "    .dataframe thead th {\n",
              "        text-align: right;\n",
              "    }\n",
              "</style>\n",
              "<table border=\"1\" class=\"dataframe\">\n",
              "  <thead>\n",
              "    <tr style=\"text-align: right;\">\n",
              "      <th></th>\n",
              "      <th>1802</th>\n",
              "      <th>5655</th>\n",
              "      <th>1373</th>\n",
              "      <th>6076</th>\n",
              "      <th>2107</th>\n",
              "      <th>6985</th>\n",
              "      <th>148</th>\n",
              "      <th>5147</th>\n",
              "      <th>4429</th>\n",
              "      <th>2453</th>\n",
              "      <th>628</th>\n",
              "      <th>6747</th>\n",
              "      <th>5227</th>\n",
              "      <th>2349</th>\n",
              "      <th>2190</th>\n",
              "    </tr>\n",
              "  </thead>\n",
              "  <tbody>\n",
              "    <tr>\n",
              "      <th>left_eye_center_x</th>\n",
              "      <td>65.4672</td>\n",
              "      <td>67.5376</td>\n",
              "      <td>66.2752</td>\n",
              "      <td>70.5609</td>\n",
              "      <td>70.0165</td>\n",
              "      <td>61.0523</td>\n",
              "      <td>65.1935</td>\n",
              "      <td>67.8332</td>\n",
              "      <td>64.6128</td>\n",
              "      <td>73.7918</td>\n",
              "      <td>64.6432</td>\n",
              "      <td>62.9388</td>\n",
              "      <td>66.2388</td>\n",
              "      <td>67.2325</td>\n",
              "      <td>61.6143</td>\n",
              "    </tr>\n",
              "    <tr>\n",
              "      <th>left_eye_center_y</th>\n",
              "      <td>38.448</td>\n",
              "      <td>36.0605</td>\n",
              "      <td>40.4189</td>\n",
              "      <td>42.5162</td>\n",
              "      <td>35.4278</td>\n",
              "      <td>40.0452</td>\n",
              "      <td>39.0719</td>\n",
              "      <td>41.3511</td>\n",
              "      <td>39.556</td>\n",
              "      <td>73.2411</td>\n",
              "      <td>36.017</td>\n",
              "      <td>36.5247</td>\n",
              "      <td>29.5449</td>\n",
              "      <td>34.8212</td>\n",
              "      <td>33.1152</td>\n",
              "    </tr>\n",
              "    <tr>\n",
              "      <th>right_eye_center_x</th>\n",
              "      <td>31.5875</td>\n",
              "      <td>29.6234</td>\n",
              "      <td>29.8085</td>\n",
              "      <td>32.2096</td>\n",
              "      <td>29.7254</td>\n",
              "      <td>35.2013</td>\n",
              "      <td>32.5771</td>\n",
              "      <td>25.5833</td>\n",
              "      <td>30.0841</td>\n",
              "      <td>51.0972</td>\n",
              "      <td>30.9722</td>\n",
              "      <td>26.5606</td>\n",
              "      <td>32.0406</td>\n",
              "      <td>28.9524</td>\n",
              "      <td>29.1004</td>\n",
              "    </tr>\n",
              "    <tr>\n",
              "      <th>right_eye_center_y</th>\n",
              "      <td>36.4458</td>\n",
              "      <td>40.7998</td>\n",
              "      <td>38.7071</td>\n",
              "      <td>34.2797</td>\n",
              "      <td>38.6221</td>\n",
              "      <td>40.0452</td>\n",
              "      <td>37.5665</td>\n",
              "      <td>43.8861</td>\n",
              "      <td>38.2151</td>\n",
              "      <td>78.3744</td>\n",
              "      <td>39.0039</td>\n",
              "      <td>41.6069</td>\n",
              "      <td>39.2294</td>\n",
              "      <td>38.1499</td>\n",
              "      <td>43.5185</td>\n",
              "    </tr>\n",
              "    <tr>\n",
              "      <th>left_eye_inner_corner_x</th>\n",
              "      <td>58.275</td>\n",
              "      <td>NaN</td>\n",
              "      <td>57.7122</td>\n",
              "      <td>NaN</td>\n",
              "      <td>60.6987</td>\n",
              "      <td>NaN</td>\n",
              "      <td>58.67</td>\n",
              "      <td>NaN</td>\n",
              "      <td>NaN</td>\n",
              "      <td>NaN</td>\n",
              "      <td>58.941</td>\n",
              "      <td>NaN</td>\n",
              "      <td>NaN</td>\n",
              "      <td>NaN</td>\n",
              "      <td>54.827</td>\n",
              "    </tr>\n",
              "    <tr>\n",
              "      <th>left_eye_inner_corner_y</th>\n",
              "      <td>39.4755</td>\n",
              "      <td>NaN</td>\n",
              "      <td>39.9367</td>\n",
              "      <td>NaN</td>\n",
              "      <td>37.2726</td>\n",
              "      <td>NaN</td>\n",
              "      <td>39.5739</td>\n",
              "      <td>NaN</td>\n",
              "      <td>NaN</td>\n",
              "      <td>NaN</td>\n",
              "      <td>37.6466</td>\n",
              "      <td>NaN</td>\n",
              "      <td>NaN</td>\n",
              "      <td>NaN</td>\n",
              "      <td>36.6719</td>\n",
              "    </tr>\n",
              "    <tr>\n",
              "      <th>left_eye_outer_corner_x</th>\n",
              "      <td>73.7659</td>\n",
              "      <td>NaN</td>\n",
              "      <td>74.1548</td>\n",
              "      <td>NaN</td>\n",
              "      <td>78.3337</td>\n",
              "      <td>NaN</td>\n",
              "      <td>70.2114</td>\n",
              "      <td>NaN</td>\n",
              "      <td>NaN</td>\n",
              "      <td>NaN</td>\n",
              "      <td>71.4319</td>\n",
              "      <td>NaN</td>\n",
              "      <td>NaN</td>\n",
              "      <td>NaN</td>\n",
              "      <td>70.0081</td>\n",
              "    </tr>\n",
              "    <tr>\n",
              "      <th>left_eye_outer_corner_y</th>\n",
              "      <td>39.9234</td>\n",
              "      <td>NaN</td>\n",
              "      <td>40.6925</td>\n",
              "      <td>NaN</td>\n",
              "      <td>36.1469</td>\n",
              "      <td>NaN</td>\n",
              "      <td>39.5739</td>\n",
              "      <td>NaN</td>\n",
              "      <td>NaN</td>\n",
              "      <td>NaN</td>\n",
              "      <td>36.2886</td>\n",
              "      <td>NaN</td>\n",
              "      <td>NaN</td>\n",
              "      <td>NaN</td>\n",
              "      <td>32.7228</td>\n",
              "    </tr>\n",
              "    <tr>\n",
              "      <th>right_eye_inner_corner_x</th>\n",
              "      <td>38.2528</td>\n",
              "      <td>NaN</td>\n",
              "      <td>39.1903</td>\n",
              "      <td>NaN</td>\n",
              "      <td>37.2791</td>\n",
              "      <td>NaN</td>\n",
              "      <td>37.5949</td>\n",
              "      <td>NaN</td>\n",
              "      <td>NaN</td>\n",
              "      <td>NaN</td>\n",
              "      <td>37.7608</td>\n",
              "      <td>NaN</td>\n",
              "      <td>NaN</td>\n",
              "      <td>NaN</td>\n",
              "      <td>36.7401</td>\n",
              "    </tr>\n",
              "    <tr>\n",
              "      <th>right_eye_inner_corner_y</th>\n",
              "      <td>38.8696</td>\n",
              "      <td>NaN</td>\n",
              "      <td>39.3697</td>\n",
              "      <td>NaN</td>\n",
              "      <td>39.0861</td>\n",
              "      <td>NaN</td>\n",
              "      <td>38.5701</td>\n",
              "      <td>NaN</td>\n",
              "      <td>NaN</td>\n",
              "      <td>NaN</td>\n",
              "      <td>39.8187</td>\n",
              "      <td>NaN</td>\n",
              "      <td>NaN</td>\n",
              "      <td>NaN</td>\n",
              "      <td>43.129</td>\n",
              "    </tr>\n",
              "    <tr>\n",
              "      <th>right_eye_outer_corner_x</th>\n",
              "      <td>21.7607</td>\n",
              "      <td>NaN</td>\n",
              "      <td>21.6133</td>\n",
              "      <td>NaN</td>\n",
              "      <td>20.3238</td>\n",
              "      <td>NaN</td>\n",
              "      <td>25.0504</td>\n",
              "      <td>NaN</td>\n",
              "      <td>NaN</td>\n",
              "      <td>NaN</td>\n",
              "      <td>24.1841</td>\n",
              "      <td>NaN</td>\n",
              "      <td>NaN</td>\n",
              "      <td>NaN</td>\n",
              "      <td>21.1738</td>\n",
              "    </tr>\n",
              "    <tr>\n",
              "      <th>right_eye_outer_corner_y</th>\n",
              "      <td>36.6829</td>\n",
              "      <td>NaN</td>\n",
              "      <td>38.6136</td>\n",
              "      <td>NaN</td>\n",
              "      <td>40.3356</td>\n",
              "      <td>NaN</td>\n",
              "      <td>37.5665</td>\n",
              "      <td>NaN</td>\n",
              "      <td>NaN</td>\n",
              "      <td>NaN</td>\n",
              "      <td>40.9051</td>\n",
              "      <td>NaN</td>\n",
              "      <td>NaN</td>\n",
              "      <td>NaN</td>\n",
              "      <td>48.2566</td>\n",
              "    </tr>\n",
              "    <tr>\n",
              "      <th>left_eyebrow_inner_end_x</th>\n",
              "      <td>57.338</td>\n",
              "      <td>NaN</td>\n",
              "      <td>58.0577</td>\n",
              "      <td>NaN</td>\n",
              "      <td>59.9627</td>\n",
              "      <td>NaN</td>\n",
              "      <td>55.4728</td>\n",
              "      <td>NaN</td>\n",
              "      <td>NaN</td>\n",
              "      <td>NaN</td>\n",
              "      <td>57.0404</td>\n",
              "      <td>NaN</td>\n",
              "      <td>NaN</td>\n",
              "      <td>NaN</td>\n",
              "      <td>50.0677</td>\n",
              "    </tr>\n",
              "    <tr>\n",
              "      <th>left_eyebrow_inner_end_y</th>\n",
              "      <td>29.7256</td>\n",
              "      <td>NaN</td>\n",
              "      <td>31.6876</td>\n",
              "      <td>NaN</td>\n",
              "      <td>29.3321</td>\n",
              "      <td>NaN</td>\n",
              "      <td>30.3545</td>\n",
              "      <td>NaN</td>\n",
              "      <td>NaN</td>\n",
              "      <td>NaN</td>\n",
              "      <td>27.871</td>\n",
              "      <td>NaN</td>\n",
              "      <td>NaN</td>\n",
              "      <td>NaN</td>\n",
              "      <td>29.2985</td>\n",
              "    </tr>\n",
              "    <tr>\n",
              "      <th>left_eyebrow_outer_end_x</th>\n",
              "      <td>80.7811</td>\n",
              "      <td>NaN</td>\n",
              "      <td>82.3687</td>\n",
              "      <td>NaN</td>\n",
              "      <td>85.7697</td>\n",
              "      <td>NaN</td>\n",
              "      <td>79.2438</td>\n",
              "      <td>NaN</td>\n",
              "      <td>NaN</td>\n",
              "      <td>NaN</td>\n",
              "      <td>76.591</td>\n",
              "      <td>NaN</td>\n",
              "      <td>NaN</td>\n",
              "      <td>NaN</td>\n",
              "      <td>73.3831</td>\n",
              "    </tr>\n",
              "    <tr>\n",
              "      <th>left_eyebrow_outer_end_y</th>\n",
              "      <td>31.006</td>\n",
              "      <td>NaN</td>\n",
              "      <td>33.9132</td>\n",
              "      <td>NaN</td>\n",
              "      <td>26.0916</td>\n",
              "      <td>NaN</td>\n",
              "      <td>32.0468</td>\n",
              "      <td>NaN</td>\n",
              "      <td>NaN</td>\n",
              "      <td>NaN</td>\n",
              "      <td>29.7718</td>\n",
              "      <td>NaN</td>\n",
              "      <td>NaN</td>\n",
              "      <td>NaN</td>\n",
              "      <td>25.5929</td>\n",
              "    </tr>\n",
              "    <tr>\n",
              "      <th>right_eyebrow_inner_end_x</th>\n",
              "      <td>38.3026</td>\n",
              "      <td>NaN</td>\n",
              "      <td>41.7931</td>\n",
              "      <td>NaN</td>\n",
              "      <td>36.4933</td>\n",
              "      <td>NaN</td>\n",
              "      <td>41.0891</td>\n",
              "      <td>NaN</td>\n",
              "      <td>NaN</td>\n",
              "      <td>NaN</td>\n",
              "      <td>38.304</td>\n",
              "      <td>NaN</td>\n",
              "      <td>NaN</td>\n",
              "      <td>NaN</td>\n",
              "      <td>33.5262</td>\n",
              "    </tr>\n",
              "    <tr>\n",
              "      <th>right_eyebrow_inner_end_y</th>\n",
              "      <td>28.1608</td>\n",
              "      <td>NaN</td>\n",
              "      <td>29.4619</td>\n",
              "      <td>NaN</td>\n",
              "      <td>32.568</td>\n",
              "      <td>NaN</td>\n",
              "      <td>29.2218</td>\n",
              "      <td>NaN</td>\n",
              "      <td>NaN</td>\n",
              "      <td>NaN</td>\n",
              "      <td>29.5003</td>\n",
              "      <td>NaN</td>\n",
              "      <td>NaN</td>\n",
              "      <td>NaN</td>\n",
              "      <td>34.5046</td>\n",
              "    </tr>\n",
              "    <tr>\n",
              "      <th>right_eyebrow_outer_end_x</th>\n",
              "      <td>16.1638</td>\n",
              "      <td>NaN</td>\n",
              "      <td>13.202</td>\n",
              "      <td>NaN</td>\n",
              "      <td>12.1271</td>\n",
              "      <td>NaN</td>\n",
              "      <td>17.2725</td>\n",
              "      <td>NaN</td>\n",
              "      <td>NaN</td>\n",
              "      <td>NaN</td>\n",
              "      <td>18.2102</td>\n",
              "      <td>NaN</td>\n",
              "      <td>NaN</td>\n",
              "      <td>NaN</td>\n",
              "      <td>13.3876</td>\n",
              "    </tr>\n",
              "    <tr>\n",
              "      <th>right_eyebrow_outer_end_y</th>\n",
              "      <td>26.9527</td>\n",
              "      <td>NaN</td>\n",
              "      <td>30.6603</td>\n",
              "      <td>NaN</td>\n",
              "      <td>31.1255</td>\n",
              "      <td>NaN</td>\n",
              "      <td>28.0325</td>\n",
              "      <td>NaN</td>\n",
              "      <td>NaN</td>\n",
              "      <td>NaN</td>\n",
              "      <td>33.0303</td>\n",
              "      <td>NaN</td>\n",
              "      <td>NaN</td>\n",
              "      <td>NaN</td>\n",
              "      <td>40.6058</td>\n",
              "    </tr>\n",
              "    <tr>\n",
              "      <th>nose_tip_x</th>\n",
              "      <td>47.0727</td>\n",
              "      <td>57.382</td>\n",
              "      <td>50.3533</td>\n",
              "      <td>44.8217</td>\n",
              "      <td>47.0833</td>\n",
              "      <td>49.7245</td>\n",
              "      <td>47.1293</td>\n",
              "      <td>46.7083</td>\n",
              "      <td>45.1695</td>\n",
              "      <td>68.1182</td>\n",
              "      <td>51.6091</td>\n",
              "      <td>45.3896</td>\n",
              "      <td>57.7649</td>\n",
              "      <td>48.9246</td>\n",
              "      <td>52.8203</td>\n",
              "    </tr>\n",
              "    <tr>\n",
              "      <th>nose_tip_y</th>\n",
              "      <td>58.2445</td>\n",
              "      <td>69.574</td>\n",
              "      <td>58.738</td>\n",
              "      <td>70.0572</td>\n",
              "      <td>60.4408</td>\n",
              "      <td>59.7965</td>\n",
              "      <td>58.391</td>\n",
              "      <td>60.7861</td>\n",
              "      <td>64.363</td>\n",
              "      <td>95.9356</td>\n",
              "      <td>53.9386</td>\n",
              "      <td>68.088</td>\n",
              "      <td>58.9009</td>\n",
              "      <td>57.5673</td>\n",
              "      <td>58.7072</td>\n",
              "    </tr>\n",
              "    <tr>\n",
              "      <th>mouth_left_corner_x</th>\n",
              "      <td>64.3154</td>\n",
              "      <td>NaN</td>\n",
              "      <td>67.5401</td>\n",
              "      <td>NaN</td>\n",
              "      <td>72.733</td>\n",
              "      <td>NaN</td>\n",
              "      <td>61.6808</td>\n",
              "      <td>NaN</td>\n",
              "      <td>NaN</td>\n",
              "      <td>NaN</td>\n",
              "      <td>65.458</td>\n",
              "      <td>NaN</td>\n",
              "      <td>NaN</td>\n",
              "      <td>NaN</td>\n",
              "      <td>73.8303</td>\n",
              "    </tr>\n",
              "    <tr>\n",
              "      <th>mouth_left_corner_y</th>\n",
              "      <td>73.5345</td>\n",
              "      <td>NaN</td>\n",
              "      <td>77.9254</td>\n",
              "      <td>NaN</td>\n",
              "      <td>77.189</td>\n",
              "      <td>NaN</td>\n",
              "      <td>74.1973</td>\n",
              "      <td>NaN</td>\n",
              "      <td>NaN</td>\n",
              "      <td>NaN</td>\n",
              "      <td>70.7739</td>\n",
              "      <td>NaN</td>\n",
              "      <td>NaN</td>\n",
              "      <td>NaN</td>\n",
              "      <td>73.3264</td>\n",
              "    </tr>\n",
              "    <tr>\n",
              "      <th>mouth_right_corner_x</th>\n",
              "      <td>29.3225</td>\n",
              "      <td>NaN</td>\n",
              "      <td>28.6066</td>\n",
              "      <td>NaN</td>\n",
              "      <td>33.6348</td>\n",
              "      <td>NaN</td>\n",
              "      <td>30.5701</td>\n",
              "      <td>NaN</td>\n",
              "      <td>NaN</td>\n",
              "      <td>NaN</td>\n",
              "      <td>38.0324</td>\n",
              "      <td>NaN</td>\n",
              "      <td>NaN</td>\n",
              "      <td>NaN</td>\n",
              "      <td>44.3414</td>\n",
              "    </tr>\n",
              "    <tr>\n",
              "      <th>mouth_right_corner_y</th>\n",
              "      <td>71.6332</td>\n",
              "      <td>NaN</td>\n",
              "      <td>78.1142</td>\n",
              "      <td>NaN</td>\n",
              "      <td>82.575</td>\n",
              "      <td>NaN</td>\n",
              "      <td>73.1935</td>\n",
              "      <td>NaN</td>\n",
              "      <td>NaN</td>\n",
              "      <td>NaN</td>\n",
              "      <td>74.0324</td>\n",
              "      <td>NaN</td>\n",
              "      <td>NaN</td>\n",
              "      <td>NaN</td>\n",
              "      <td>83.7812</td>\n",
              "    </tr>\n",
              "    <tr>\n",
              "      <th>mouth_center_top_lip_x</th>\n",
              "      <td>47.0662</td>\n",
              "      <td>NaN</td>\n",
              "      <td>48.4699</td>\n",
              "      <td>NaN</td>\n",
              "      <td>52.4715</td>\n",
              "      <td>NaN</td>\n",
              "      <td>46.6274</td>\n",
              "      <td>NaN</td>\n",
              "      <td>NaN</td>\n",
              "      <td>NaN</td>\n",
              "      <td>52.1523</td>\n",
              "      <td>NaN</td>\n",
              "      <td>NaN</td>\n",
              "      <td>NaN</td>\n",
              "      <td>57.5603</td>\n",
              "    </tr>\n",
              "    <tr>\n",
              "      <th>mouth_center_top_lip_y</th>\n",
              "      <td>73.9197</td>\n",
              "      <td>NaN</td>\n",
              "      <td>75.1738</td>\n",
              "      <td>NaN</td>\n",
              "      <td>79.6397</td>\n",
              "      <td>NaN</td>\n",
              "      <td>69.6814</td>\n",
              "      <td>NaN</td>\n",
              "      <td>NaN</td>\n",
              "      <td>NaN</td>\n",
              "      <td>67.5159</td>\n",
              "      <td>NaN</td>\n",
              "      <td>NaN</td>\n",
              "      <td>NaN</td>\n",
              "      <td>77.5867</td>\n",
              "    </tr>\n",
              "    <tr>\n",
              "      <th>mouth_center_bottom_lip_x</th>\n",
              "      <td>46.8416</td>\n",
              "      <td>57.0435</td>\n",
              "      <td>47.6142</td>\n",
              "      <td>43.7922</td>\n",
              "      <td>52.8419</td>\n",
              "      <td>49.7245</td>\n",
              "      <td>46.6274</td>\n",
              "      <td>48.3983</td>\n",
              "      <td>45.5047</td>\n",
              "      <td>NaN</td>\n",
              "      <td>52.9671</td>\n",
              "      <td>48.762</td>\n",
              "      <td>58.9754</td>\n",
              "      <td>49.4794</td>\n",
              "      <td>58.4495</td>\n",
              "    </tr>\n",
              "    <tr>\n",
              "      <th>mouth_center_bottom_lip_y</th>\n",
              "      <td>76.1827</td>\n",
              "      <td>81.4222</td>\n",
              "      <td>86.473</td>\n",
              "      <td>78.8085</td>\n",
              "      <td>80.3522</td>\n",
              "      <td>71.7053</td>\n",
              "      <td>80.2189</td>\n",
              "      <td>73.8835</td>\n",
              "      <td>73.079</td>\n",
              "      <td>NaN</td>\n",
              "      <td>80.0063</td>\n",
              "      <td>82.5323</td>\n",
              "      <td>73.1249</td>\n",
              "      <td>71.9918</td>\n",
              "      <td>80.3431</td>\n",
              "    </tr>\n",
              "    <tr>\n",
              "      <th>Image</th>\n",
              "      <td>231 215 166 157 170 181 181 206 184 163 161 16...</td>\n",
              "      <td>25 25 25 25 27 28 28 28 31 35 45 57 68 81 87 9...</td>\n",
              "      <td>216 77 32 35 32 26 24 26 25 25 24 23 22 20 19 ...</td>\n",
              "      <td>210 210 210 208 207 206 204 203 196 185 174 16...</td>\n",
              "      <td>133 141 157 170 167 172 169 170 171 172 175 17...</td>\n",
              "      <td>2 3 13 24 24 15 7 4 2 3 24 46 49 35 21 27 37 4...</td>\n",
              "      <td>234 235 234 235 234 234 235 237 226 205 209 17...</td>\n",
              "      <td>218 223 223 221 218 216 214 204 209 214 194 12...</td>\n",
              "      <td>7 8 8 9 8 9 8 11 17 25 36 23 12 7 5 13 18 15 3...</td>\n",
              "      <td>26 26 26 26 26 26 26 26 25 25 25 26 26 26 26 2...</td>\n",
              "      <td>223 223 223 220 218 219 217 213 211 207 164 13...</td>\n",
              "      <td>50 59 80 123 130 106 94 74 94 84 76 50 30 31 4...</td>\n",
              "      <td>31 31 66 61 39 41 52 59 59 70 65 51 58 77 91 8...</td>\n",
              "      <td>73 54 36 21 20 23 23 23 22 22 22 21 22 22 22 2...</td>\n",
              "      <td>109 112 106 98 101 91 62 102 115 101 74 95 101...</td>\n",
              "    </tr>\n",
              "  </tbody>\n",
              "</table>\n",
              "</div>"
            ],
            "text/plain": [
              "                                                                        1802  ...                                               2190\n",
              "left_eye_center_x                                                    65.4672  ...                                            61.6143\n",
              "left_eye_center_y                                                     38.448  ...                                            33.1152\n",
              "right_eye_center_x                                                   31.5875  ...                                            29.1004\n",
              "right_eye_center_y                                                   36.4458  ...                                            43.5185\n",
              "left_eye_inner_corner_x                                               58.275  ...                                             54.827\n",
              "left_eye_inner_corner_y                                              39.4755  ...                                            36.6719\n",
              "left_eye_outer_corner_x                                              73.7659  ...                                            70.0081\n",
              "left_eye_outer_corner_y                                              39.9234  ...                                            32.7228\n",
              "right_eye_inner_corner_x                                             38.2528  ...                                            36.7401\n",
              "right_eye_inner_corner_y                                             38.8696  ...                                             43.129\n",
              "right_eye_outer_corner_x                                             21.7607  ...                                            21.1738\n",
              "right_eye_outer_corner_y                                             36.6829  ...                                            48.2566\n",
              "left_eyebrow_inner_end_x                                              57.338  ...                                            50.0677\n",
              "left_eyebrow_inner_end_y                                             29.7256  ...                                            29.2985\n",
              "left_eyebrow_outer_end_x                                             80.7811  ...                                            73.3831\n",
              "left_eyebrow_outer_end_y                                              31.006  ...                                            25.5929\n",
              "right_eyebrow_inner_end_x                                            38.3026  ...                                            33.5262\n",
              "right_eyebrow_inner_end_y                                            28.1608  ...                                            34.5046\n",
              "right_eyebrow_outer_end_x                                            16.1638  ...                                            13.3876\n",
              "right_eyebrow_outer_end_y                                            26.9527  ...                                            40.6058\n",
              "nose_tip_x                                                           47.0727  ...                                            52.8203\n",
              "nose_tip_y                                                           58.2445  ...                                            58.7072\n",
              "mouth_left_corner_x                                                  64.3154  ...                                            73.8303\n",
              "mouth_left_corner_y                                                  73.5345  ...                                            73.3264\n",
              "mouth_right_corner_x                                                 29.3225  ...                                            44.3414\n",
              "mouth_right_corner_y                                                 71.6332  ...                                            83.7812\n",
              "mouth_center_top_lip_x                                               47.0662  ...                                            57.5603\n",
              "mouth_center_top_lip_y                                               73.9197  ...                                            77.5867\n",
              "mouth_center_bottom_lip_x                                            46.8416  ...                                            58.4495\n",
              "mouth_center_bottom_lip_y                                            76.1827  ...                                            80.3431\n",
              "Image                      231 215 166 157 170 181 181 206 184 163 161 16...  ...  109 112 106 98 101 91 62 102 115 101 74 95 101...\n",
              "\n",
              "[31 rows x 15 columns]"
            ]
          },
          "metadata": {
            "tags": []
          },
          "execution_count": 7
        }
      ]
    },
    {
      "cell_type": "code",
      "metadata": {
        "id": "VKe8vyAu3gfr",
        "colab_type": "code",
        "outputId": "5b5f05fb-f13f-4de9-d10b-e5a02ea3dda5",
        "colab": {
          "base_uri": "https://localhost:8080/",
          "height": 304
        }
      },
      "source": [
        "train_data.describe()"
      ],
      "execution_count": 8,
      "outputs": [
        {
          "output_type": "execute_result",
          "data": {
            "text/html": [
              "<div>\n",
              "<style scoped>\n",
              "    .dataframe tbody tr th:only-of-type {\n",
              "        vertical-align: middle;\n",
              "    }\n",
              "\n",
              "    .dataframe tbody tr th {\n",
              "        vertical-align: top;\n",
              "    }\n",
              "\n",
              "    .dataframe thead th {\n",
              "        text-align: right;\n",
              "    }\n",
              "</style>\n",
              "<table border=\"1\" class=\"dataframe\">\n",
              "  <thead>\n",
              "    <tr style=\"text-align: right;\">\n",
              "      <th></th>\n",
              "      <th>left_eye_center_x</th>\n",
              "      <th>left_eye_center_y</th>\n",
              "      <th>right_eye_center_x</th>\n",
              "      <th>right_eye_center_y</th>\n",
              "      <th>left_eye_inner_corner_x</th>\n",
              "      <th>left_eye_inner_corner_y</th>\n",
              "      <th>left_eye_outer_corner_x</th>\n",
              "      <th>left_eye_outer_corner_y</th>\n",
              "      <th>right_eye_inner_corner_x</th>\n",
              "      <th>right_eye_inner_corner_y</th>\n",
              "      <th>right_eye_outer_corner_x</th>\n",
              "      <th>right_eye_outer_corner_y</th>\n",
              "      <th>left_eyebrow_inner_end_x</th>\n",
              "      <th>left_eyebrow_inner_end_y</th>\n",
              "      <th>left_eyebrow_outer_end_x</th>\n",
              "      <th>left_eyebrow_outer_end_y</th>\n",
              "      <th>right_eyebrow_inner_end_x</th>\n",
              "      <th>right_eyebrow_inner_end_y</th>\n",
              "      <th>right_eyebrow_outer_end_x</th>\n",
              "      <th>right_eyebrow_outer_end_y</th>\n",
              "      <th>nose_tip_x</th>\n",
              "      <th>nose_tip_y</th>\n",
              "      <th>mouth_left_corner_x</th>\n",
              "      <th>mouth_left_corner_y</th>\n",
              "      <th>mouth_right_corner_x</th>\n",
              "      <th>mouth_right_corner_y</th>\n",
              "      <th>mouth_center_top_lip_x</th>\n",
              "      <th>mouth_center_top_lip_y</th>\n",
              "      <th>mouth_center_bottom_lip_x</th>\n",
              "      <th>mouth_center_bottom_lip_y</th>\n",
              "    </tr>\n",
              "  </thead>\n",
              "  <tbody>\n",
              "    <tr>\n",
              "      <th>count</th>\n",
              "      <td>7039.000000</td>\n",
              "      <td>7039.000000</td>\n",
              "      <td>7036.000000</td>\n",
              "      <td>7036.000000</td>\n",
              "      <td>2271.000000</td>\n",
              "      <td>2271.000000</td>\n",
              "      <td>2267.000000</td>\n",
              "      <td>2267.000000</td>\n",
              "      <td>2268.000000</td>\n",
              "      <td>2268.000000</td>\n",
              "      <td>2268.000000</td>\n",
              "      <td>2268.000000</td>\n",
              "      <td>2270.000000</td>\n",
              "      <td>2270.000000</td>\n",
              "      <td>2225.000000</td>\n",
              "      <td>2225.000000</td>\n",
              "      <td>2270.000000</td>\n",
              "      <td>2270.000000</td>\n",
              "      <td>2236.000000</td>\n",
              "      <td>2236.000000</td>\n",
              "      <td>7049.000000</td>\n",
              "      <td>7049.000000</td>\n",
              "      <td>2269.000000</td>\n",
              "      <td>2269.000000</td>\n",
              "      <td>2270.000000</td>\n",
              "      <td>2270.000000</td>\n",
              "      <td>2275.000000</td>\n",
              "      <td>2275.000000</td>\n",
              "      <td>7016.000000</td>\n",
              "      <td>7016.000000</td>\n",
              "    </tr>\n",
              "    <tr>\n",
              "      <th>mean</th>\n",
              "      <td>66.359021</td>\n",
              "      <td>37.651234</td>\n",
              "      <td>30.306102</td>\n",
              "      <td>37.976943</td>\n",
              "      <td>59.159339</td>\n",
              "      <td>37.944752</td>\n",
              "      <td>73.330478</td>\n",
              "      <td>37.707008</td>\n",
              "      <td>36.652607</td>\n",
              "      <td>37.989902</td>\n",
              "      <td>22.384504</td>\n",
              "      <td>38.033495</td>\n",
              "      <td>56.068513</td>\n",
              "      <td>29.332678</td>\n",
              "      <td>79.482826</td>\n",
              "      <td>29.734861</td>\n",
              "      <td>39.322137</td>\n",
              "      <td>29.502998</td>\n",
              "      <td>15.871177</td>\n",
              "      <td>30.428166</td>\n",
              "      <td>48.374186</td>\n",
              "      <td>62.715884</td>\n",
              "      <td>63.285735</td>\n",
              "      <td>75.970714</td>\n",
              "      <td>32.900404</td>\n",
              "      <td>76.179768</td>\n",
              "      <td>47.975412</td>\n",
              "      <td>72.919443</td>\n",
              "      <td>48.569472</td>\n",
              "      <td>78.970146</td>\n",
              "    </tr>\n",
              "    <tr>\n",
              "      <th>std</th>\n",
              "      <td>3.448233</td>\n",
              "      <td>3.152926</td>\n",
              "      <td>3.083230</td>\n",
              "      <td>3.033621</td>\n",
              "      <td>2.690354</td>\n",
              "      <td>2.307332</td>\n",
              "      <td>3.405852</td>\n",
              "      <td>2.881438</td>\n",
              "      <td>2.350268</td>\n",
              "      <td>2.311907</td>\n",
              "      <td>3.057122</td>\n",
              "      <td>2.910368</td>\n",
              "      <td>3.485485</td>\n",
              "      <td>3.078134</td>\n",
              "      <td>3.986224</td>\n",
              "      <td>3.773744</td>\n",
              "      <td>3.209641</td>\n",
              "      <td>3.106869</td>\n",
              "      <td>3.622533</td>\n",
              "      <td>3.865772</td>\n",
              "      <td>4.280038</td>\n",
              "      <td>5.720567</td>\n",
              "      <td>4.079063</td>\n",
              "      <td>4.579724</td>\n",
              "      <td>3.964552</td>\n",
              "      <td>4.417814</td>\n",
              "      <td>3.323060</td>\n",
              "      <td>5.222500</td>\n",
              "      <td>4.269961</td>\n",
              "      <td>5.407844</td>\n",
              "    </tr>\n",
              "    <tr>\n",
              "      <th>min</th>\n",
              "      <td>22.763345</td>\n",
              "      <td>1.616512</td>\n",
              "      <td>0.686592</td>\n",
              "      <td>4.091264</td>\n",
              "      <td>19.064954</td>\n",
              "      <td>27.190098</td>\n",
              "      <td>27.571879</td>\n",
              "      <td>26.250023</td>\n",
              "      <td>5.751046</td>\n",
              "      <td>26.250023</td>\n",
              "      <td>3.980117</td>\n",
              "      <td>25.123828</td>\n",
              "      <td>17.888717</td>\n",
              "      <td>15.859361</td>\n",
              "      <td>32.206432</td>\n",
              "      <td>10.522325</td>\n",
              "      <td>6.921014</td>\n",
              "      <td>16.476000</td>\n",
              "      <td>3.826243</td>\n",
              "      <td>13.224453</td>\n",
              "      <td>12.944699</td>\n",
              "      <td>17.932414</td>\n",
              "      <td>22.923362</td>\n",
              "      <td>57.023258</td>\n",
              "      <td>2.245766</td>\n",
              "      <td>56.690208</td>\n",
              "      <td>12.605173</td>\n",
              "      <td>56.719043</td>\n",
              "      <td>12.536477</td>\n",
              "      <td>25.850503</td>\n",
              "    </tr>\n",
              "    <tr>\n",
              "      <th>25%</th>\n",
              "      <td>65.082895</td>\n",
              "      <td>35.900451</td>\n",
              "      <td>28.783339</td>\n",
              "      <td>36.327681</td>\n",
              "      <td>58.039339</td>\n",
              "      <td>36.626283</td>\n",
              "      <td>71.716503</td>\n",
              "      <td>36.085523</td>\n",
              "      <td>35.506126</td>\n",
              "      <td>36.766783</td>\n",
              "      <td>20.585808</td>\n",
              "      <td>36.534382</td>\n",
              "      <td>54.515587</td>\n",
              "      <td>27.617244</td>\n",
              "      <td>77.673916</td>\n",
              "      <td>27.667948</td>\n",
              "      <td>37.552286</td>\n",
              "      <td>27.790607</td>\n",
              "      <td>13.562183</td>\n",
              "      <td>28.206046</td>\n",
              "      <td>46.602370</td>\n",
              "      <td>59.292697</td>\n",
              "      <td>61.257143</td>\n",
              "      <td>72.875707</td>\n",
              "      <td>30.797646</td>\n",
              "      <td>73.256472</td>\n",
              "      <td>46.494571</td>\n",
              "      <td>69.396748</td>\n",
              "      <td>46.573703</td>\n",
              "      <td>75.549715</td>\n",
              "    </tr>\n",
              "    <tr>\n",
              "      <th>50%</th>\n",
              "      <td>66.497566</td>\n",
              "      <td>37.528055</td>\n",
              "      <td>30.251378</td>\n",
              "      <td>37.813273</td>\n",
              "      <td>59.304615</td>\n",
              "      <td>37.878040</td>\n",
              "      <td>73.247824</td>\n",
              "      <td>37.639015</td>\n",
              "      <td>36.651562</td>\n",
              "      <td>37.944075</td>\n",
              "      <td>22.535954</td>\n",
              "      <td>37.867071</td>\n",
              "      <td>56.244975</td>\n",
              "      <td>29.528872</td>\n",
              "      <td>79.784229</td>\n",
              "      <td>29.773813</td>\n",
              "      <td>39.298848</td>\n",
              "      <td>29.569347</td>\n",
              "      <td>15.785709</td>\n",
              "      <td>30.320160</td>\n",
              "      <td>48.424713</td>\n",
              "      <td>63.451421</td>\n",
              "      <td>63.178286</td>\n",
              "      <td>75.778689</td>\n",
              "      <td>32.982305</td>\n",
              "      <td>76.000592</td>\n",
              "      <td>47.905490</td>\n",
              "      <td>72.605173</td>\n",
              "      <td>48.594978</td>\n",
              "      <td>78.696326</td>\n",
              "    </tr>\n",
              "    <tr>\n",
              "      <th>75%</th>\n",
              "      <td>68.024752</td>\n",
              "      <td>39.258449</td>\n",
              "      <td>31.768334</td>\n",
              "      <td>39.566729</td>\n",
              "      <td>60.519810</td>\n",
              "      <td>39.260348</td>\n",
              "      <td>75.015645</td>\n",
              "      <td>39.373489</td>\n",
              "      <td>37.753571</td>\n",
              "      <td>39.192917</td>\n",
              "      <td>24.237701</td>\n",
              "      <td>39.415051</td>\n",
              "      <td>57.946415</td>\n",
              "      <td>31.158830</td>\n",
              "      <td>81.590720</td>\n",
              "      <td>31.835621</td>\n",
              "      <td>40.917160</td>\n",
              "      <td>31.251664</td>\n",
              "      <td>17.999040</td>\n",
              "      <td>32.654768</td>\n",
              "      <td>50.330437</td>\n",
              "      <td>66.492686</td>\n",
              "      <td>65.376243</td>\n",
              "      <td>78.879123</td>\n",
              "      <td>35.101302</td>\n",
              "      <td>78.956357</td>\n",
              "      <td>49.296488</td>\n",
              "      <td>76.221644</td>\n",
              "      <td>50.677631</td>\n",
              "      <td>82.233993</td>\n",
              "    </tr>\n",
              "    <tr>\n",
              "      <th>max</th>\n",
              "      <td>94.689280</td>\n",
              "      <td>80.502649</td>\n",
              "      <td>85.039381</td>\n",
              "      <td>81.270911</td>\n",
              "      <td>84.440991</td>\n",
              "      <td>66.562559</td>\n",
              "      <td>95.258090</td>\n",
              "      <td>64.618230</td>\n",
              "      <td>70.714966</td>\n",
              "      <td>69.808803</td>\n",
              "      <td>61.428580</td>\n",
              "      <td>70.746797</td>\n",
              "      <td>79.787831</td>\n",
              "      <td>60.875896</td>\n",
              "      <td>94.269957</td>\n",
              "      <td>60.500298</td>\n",
              "      <td>76.582388</td>\n",
              "      <td>62.083177</td>\n",
              "      <td>58.418216</td>\n",
              "      <td>66.751329</td>\n",
              "      <td>89.438592</td>\n",
              "      <td>95.935644</td>\n",
              "      <td>84.767123</td>\n",
              "      <td>94.673637</td>\n",
              "      <td>74.017993</td>\n",
              "      <td>95.510678</td>\n",
              "      <td>83.989082</td>\n",
              "      <td>94.548359</td>\n",
              "      <td>89.438592</td>\n",
              "      <td>95.808983</td>\n",
              "    </tr>\n",
              "  </tbody>\n",
              "</table>\n",
              "</div>"
            ],
            "text/plain": [
              "       left_eye_center_x  ...  mouth_center_bottom_lip_y\n",
              "count        7039.000000  ...                7016.000000\n",
              "mean           66.359021  ...                  78.970146\n",
              "std             3.448233  ...                   5.407844\n",
              "min            22.763345  ...                  25.850503\n",
              "25%            65.082895  ...                  75.549715\n",
              "50%            66.497566  ...                  78.696326\n",
              "75%            68.024752  ...                  82.233993\n",
              "max            94.689280  ...                  95.808983\n",
              "\n",
              "[8 rows x 30 columns]"
            ]
          },
          "metadata": {
            "tags": []
          },
          "execution_count": 8
        }
      ]
    },
    {
      "cell_type": "markdown",
      "metadata": {
        "id": "Vs5-PCPk3zNT",
        "colab_type": "text"
      },
      "source": [
        "How do we impute\n",
        "\n",
        "1. I can set with Median..Seems a bit stretched across here. I think ffill may generalize here considering the min / max and median and kind of closely integrated. Median will make everything uniform and does not seem like a good fit\n"
      ]
    },
    {
      "cell_type": "code",
      "metadata": {
        "id": "aj0aEoXd4G2H",
        "colab_type": "code",
        "colab": {}
      },
      "source": [
        "train_data.fillna(method = 'ffill',inplace = True)"
      ],
      "execution_count": 0,
      "outputs": []
    },
    {
      "cell_type": "code",
      "metadata": {
        "id": "D0PRp_Bk4LE0",
        "colab_type": "code",
        "outputId": "67027f46-46d4-4062-c9a7-6e81cf8f1be9",
        "colab": {
          "base_uri": "https://localhost:8080/",
          "height": 605
        }
      },
      "source": [
        "print(train_data.isnull().sum(),'\\n')\n",
        "train_data.isnull().any().value_counts()"
      ],
      "execution_count": 10,
      "outputs": [
        {
          "output_type": "stream",
          "text": [
            "left_eye_center_x            0\n",
            "left_eye_center_y            0\n",
            "right_eye_center_x           0\n",
            "right_eye_center_y           0\n",
            "left_eye_inner_corner_x      0\n",
            "left_eye_inner_corner_y      0\n",
            "left_eye_outer_corner_x      0\n",
            "left_eye_outer_corner_y      0\n",
            "right_eye_inner_corner_x     0\n",
            "right_eye_inner_corner_y     0\n",
            "right_eye_outer_corner_x     0\n",
            "right_eye_outer_corner_y     0\n",
            "left_eyebrow_inner_end_x     0\n",
            "left_eyebrow_inner_end_y     0\n",
            "left_eyebrow_outer_end_x     0\n",
            "left_eyebrow_outer_end_y     0\n",
            "right_eyebrow_inner_end_x    0\n",
            "right_eyebrow_inner_end_y    0\n",
            "right_eyebrow_outer_end_x    0\n",
            "right_eyebrow_outer_end_y    0\n",
            "nose_tip_x                   0\n",
            "nose_tip_y                   0\n",
            "mouth_left_corner_x          0\n",
            "mouth_left_corner_y          0\n",
            "mouth_right_corner_x         0\n",
            "mouth_right_corner_y         0\n",
            "mouth_center_top_lip_x       0\n",
            "mouth_center_top_lip_y       0\n",
            "mouth_center_bottom_lip_x    0\n",
            "mouth_center_bottom_lip_y    0\n",
            "Image                        0\n",
            "dtype: int64 \n",
            "\n"
          ],
          "name": "stdout"
        },
        {
          "output_type": "execute_result",
          "data": {
            "text/plain": [
              "False    31\n",
              "dtype: int64"
            ]
          },
          "metadata": {
            "tags": []
          },
          "execution_count": 10
        }
      ]
    },
    {
      "cell_type": "markdown",
      "metadata": {
        "id": "YapZJ7kL4OdV",
        "colab_type": "text"
      },
      "source": [
        "Ok. Now the data seems no missing values. Let's move on"
      ]
    },
    {
      "cell_type": "code",
      "metadata": {
        "id": "oVrDhBjNACjI",
        "colab_type": "code",
        "colab": {}
      },
      "source": [
        "# Let's create the image List. This is 96x96 and a few pixels missing inbetween. We will update those pixels to 0 (On a scale of 0 to 255)\n",
        "\n",
        "image = []\n",
        "for i in range(0,train_data.shape[0]):\n",
        "  imgtmp = train_data['Image'][i].split(' ')\n",
        "  imgtmp = ['0' if x == '' else x for x in imgtmp]\n",
        "  image.append(imgtmp)"
      ],
      "execution_count": 0,
      "outputs": []
    },
    {
      "cell_type": "code",
      "metadata": {
        "id": "PF--4Mj4BWx4",
        "colab_type": "code",
        "colab": {}
      },
      "source": [
        "# Converting the list into a numpy array of integers\n",
        "image_array = np.array(image,dtype=float)"
      ],
      "execution_count": 0,
      "outputs": []
    },
    {
      "cell_type": "code",
      "metadata": {
        "id": "IQ6Zrr1yB8Y_",
        "colab_type": "code",
        "outputId": "fa8e8190-2ac1-4e9e-8392-3768f2b9901e",
        "colab": {
          "base_uri": "https://localhost:8080/",
          "height": 34
        }
      },
      "source": [
        "# So this will be an array of 7049 rows (Training data records) and 9216 columns of pixel values (96*96)\n",
        "image_array.shape"
      ],
      "execution_count": 57,
      "outputs": [
        {
          "output_type": "execute_result",
          "data": {
            "text/plain": [
              "(7049, 9216)"
            ]
          },
          "metadata": {
            "tags": []
          },
          "execution_count": 57
        }
      ]
    },
    {
      "cell_type": "code",
      "metadata": {
        "id": "FOjZ1MwLHfrP",
        "colab_type": "code",
        "outputId": "4e080795-6ae2-4e0f-bd4f-b807b65c7c9c",
        "colab": {
          "base_uri": "https://localhost:8080/",
          "height": 34
        }
      },
      "source": [
        "X_train = image_array\n",
        "X_train.shape"
      ],
      "execution_count": 58,
      "outputs": [
        {
          "output_type": "execute_result",
          "data": {
            "text/plain": [
              "(7049, 9216)"
            ]
          },
          "metadata": {
            "tags": []
          },
          "execution_count": 58
        }
      ]
    },
    {
      "cell_type": "code",
      "metadata": {
        "id": "D-PIUNpiCULP",
        "colab_type": "code",
        "outputId": "503392eb-1be9-4d0f-cc58-016579bc253c",
        "colab": {
          "base_uri": "https://localhost:8080/",
          "height": 282
        }
      },
      "source": [
        "plt.figure(figsize=(24, 24))\n",
        "for i in range(0,5):\n",
        "  plt.subplot(1, 5, i + 1)\n",
        "  plt.imshow(image_array[i].reshape(96,96),cmap='gray')\n",
        "  plt.scatter(train_data['left_eye_center_x'][i],train_data['left_eye_center_y'][i],c='r',s=12)\n",
        "  plt.scatter(train_data['right_eye_center_x'][i],train_data['right_eye_center_y'][i],c='r',s=12)\n",
        "  plt.scatter(train_data['left_eye_inner_corner_x'][i],train_data['left_eye_inner_corner_y'][i],c='b',s=12)\n",
        "  plt.scatter(train_data['left_eye_outer_corner_x'][i],train_data['left_eye_outer_corner_y'][i],c='b',s=12)\n",
        "  plt.scatter(train_data['right_eye_inner_corner_x'][i],train_data['right_eye_inner_corner_y'][i],c='b',s=12)\n",
        "  plt.scatter(train_data['right_eye_outer_corner_x'][i],train_data['right_eye_outer_corner_y'][i],c='b',s=12)\n",
        "  plt.scatter(train_data['left_eyebrow_inner_end_x'][i],train_data['left_eyebrow_inner_end_y'][i],c='g',s=12)\n",
        "  plt.scatter(train_data['left_eyebrow_outer_end_x'][i],train_data['left_eyebrow_outer_end_y'][i],c='g',s=12)\n",
        "  plt.scatter(train_data['right_eyebrow_inner_end_x'][i],train_data['right_eyebrow_inner_end_y'][i],c='g',s=12)\n",
        "  plt.scatter(train_data['right_eyebrow_outer_end_x'][i],train_data['right_eyebrow_outer_end_y'][i],c='g',s=12)\n",
        "  plt.scatter(train_data['nose_tip_x'][i],train_data['nose_tip_y'][i],c='r',s=12)\n",
        "  plt.scatter(train_data['mouth_left_corner_x'][i],train_data['mouth_left_corner_y'][i],c='y',s=12)\n",
        "  plt.scatter(train_data['mouth_right_corner_x'][i],train_data['mouth_right_corner_y'][i],c='y',s=12)\n",
        "  plt.scatter(train_data['mouth_center_top_lip_x'][i],train_data['mouth_center_top_lip_y'][i],c='y',s=12)\n",
        "  plt.scatter(train_data['mouth_center_bottom_lip_x'][i],train_data['mouth_center_bottom_lip_y'][i],c='y',s=12)\n",
        "plt.show()"
      ],
      "execution_count": 59,
      "outputs": [
        {
          "output_type": "display_data",
          "data": {
            "image/png": "[encoded data removed]",
            "text/plain": [
              "<Figure size 1728x1728 with 5 Axes>"
            ]
          },
          "metadata": {
            "tags": []
          }
        }
      ]
    },
    {
      "cell_type": "code",
      "metadata": {
        "id": "J6_vdEwCzex2",
        "colab_type": "code",
        "outputId": "22aa63f8-5b21-4e29-f3de-1dffe1657fc3",
        "colab": {
          "base_uri": "https://localhost:8080/",
          "height": 34
        }
      },
      "source": [
        "# y is target variable with 30 targets to be predicted\n",
        "\n",
        "train_data.shape\n",
        "\n",
        "# The first 30 columns are the targets to be predicted"
      ],
      "execution_count": 60,
      "outputs": [
        {
          "output_type": "execute_result",
          "data": {
            "text/plain": [
              "(7049, 31)"
            ]
          },
          "metadata": {
            "tags": []
          },
          "execution_count": 60
        }
      ]
    },
    {
      "cell_type": "code",
      "metadata": {
        "id": "gyFui7NJz00j",
        "colab_type": "code",
        "outputId": "fb714d7b-1037-4a7e-9830-d8f572a86902",
        "colab": {
          "base_uri": "https://localhost:8080/",
          "height": 34
        }
      },
      "source": [
        "y_train = np.array(train_data.iloc[:,:30],dtype=float)\n",
        "y_train.shape"
      ],
      "execution_count": 61,
      "outputs": [
        {
          "output_type": "execute_result",
          "data": {
            "text/plain": [
              "(7049, 30)"
            ]
          },
          "metadata": {
            "tags": []
          },
          "execution_count": 61
        }
      ]
    },
    {
      "cell_type": "code",
      "metadata": {
        "id": "pU1_yvrP11rb",
        "colab_type": "code",
        "outputId": "7d1a255e-65b1-4fa8-dccd-b332ad707c54",
        "colab": {
          "base_uri": "https://localhost:8080/",
          "height": 894
        }
      },
      "source": [
        "# Time to get TensorFlow\n",
        "!pip install tensorflow==2.0"
      ],
      "execution_count": 18,
      "outputs": [
        {
          "output_type": "stream",
          "text": [
            "Collecting tensorflow==2.0\n",
            "\u001b[?25l  Downloading https://files.pythonhosted.org/packages/46/0f/7bd55361168bb32796b360ad15a25de6966c9c1beb58a8e30c01c8279862/tensorflow-2.0.0-cp36-cp36m-manylinux2010_x86_64.whl (86.3MB)\n",
            "\u001b[K     |████████████████████████████████| 86.3MB 57kB/s \n",
            "\u001b[?25hCollecting tensorflow-estimator<2.1.0,>=2.0.0\n",
            "\u001b[?25l  Downloading https://files.pythonhosted.org/packages/fc/08/8b927337b7019c374719145d1dceba21a8bb909b93b1ad6f8fb7d22c1ca1/tensorflow_estimator-2.0.1-py2.py3-none-any.whl (449kB)\n",
            "\u001b[K     |████████████████████████████████| 450kB 49.8MB/s \n",
            "\u001b[?25hRequirement already satisfied: six>=1.10.0 in /usr/local/lib/python3.6/dist-packages (from tensorflow==2.0) (1.12.0)\n",
            "Requirement already satisfied: wrapt>=1.11.1 in /usr/local/lib/python3.6/dist-packages (from tensorflow==2.0) (1.11.2)\n",
            "Requirement already satisfied: gast==0.2.2 in /usr/local/lib/python3.6/dist-packages (from tensorflow==2.0) (0.2.2)\n",
            "Requirement already satisfied: grpcio>=1.8.6 in /usr/local/lib/python3.6/dist-packages (from tensorflow==2.0) (1.27.1)\n",
            "Collecting tensorboard<2.1.0,>=2.0.0\n",
            "\u001b[?25l  Downloading https://files.pythonhosted.org/packages/76/54/99b9d5d52d5cb732f099baaaf7740403e83fe6b0cedde940fabd2b13d75a/tensorboard-2.0.2-py3-none-any.whl (3.8MB)\n",
            "\u001b[K     |████████████████████████████████| 3.8MB 61.7MB/s \n",
            "\u001b[?25hRequirement already satisfied: google-pasta>=0.1.6 in /usr/local/lib/python3.6/dist-packages (from tensorflow==2.0) (0.1.8)\n",
            "Requirement already satisfied: absl-py>=0.7.0 in /usr/local/lib/python3.6/dist-packages (from tensorflow==2.0) (0.9.0)\n",
            "Requirement already satisfied: termcolor>=1.1.0 in /usr/local/lib/python3.6/dist-packages (from tensorflow==2.0) (1.1.0)\n",
            "Requirement already satisfied: wheel>=0.26 in /usr/local/lib/python3.6/dist-packages (from tensorflow==2.0) (0.34.2)\n",
            "Requirement already satisfied: keras-preprocessing>=1.0.5 in /usr/local/lib/python3.6/dist-packages (from tensorflow==2.0) (1.1.0)\n",
            "Requirement already satisfied: astor>=0.6.0 in /usr/local/lib/python3.6/dist-packages (from tensorflow==2.0) (0.8.1)\n",
            "Requirement already satisfied: numpy<2.0,>=1.16.0 in /usr/local/lib/python3.6/dist-packages (from tensorflow==2.0) (1.17.5)\n",
            "Requirement already satisfied: keras-applications>=1.0.8 in /usr/local/lib/python3.6/dist-packages (from tensorflow==2.0) (1.0.8)\n",
            "Requirement already satisfied: protobuf>=3.6.1 in /usr/local/lib/python3.6/dist-packages (from tensorflow==2.0) (3.10.0)\n",
            "Requirement already satisfied: opt-einsum>=2.3.2 in /usr/local/lib/python3.6/dist-packages (from tensorflow==2.0) (3.1.0)\n",
            "Requirement already satisfied: werkzeug>=0.11.15 in /usr/local/lib/python3.6/dist-packages (from tensorboard<2.1.0,>=2.0.0->tensorflow==2.0) (1.0.0)\n",
            "Requirement already satisfied: setuptools>=41.0.0 in /usr/local/lib/python3.6/dist-packages (from tensorboard<2.1.0,>=2.0.0->tensorflow==2.0) (45.2.0)\n",
            "Requirement already satisfied: requests<3,>=2.21.0 in /usr/local/lib/python3.6/dist-packages (from tensorboard<2.1.0,>=2.0.0->tensorflow==2.0) (2.21.0)\n",
            "Requirement already satisfied: google-auth-oauthlib<0.5,>=0.4.1 in /usr/local/lib/python3.6/dist-packages (from tensorboard<2.1.0,>=2.0.0->tensorflow==2.0) (0.4.1)\n",
            "Requirement already satisfied: google-auth<2,>=1.6.3 in /usr/local/lib/python3.6/dist-packages (from tensorboard<2.1.0,>=2.0.0->tensorflow==2.0) (1.7.2)\n",
            "Requirement already satisfied: markdown>=2.6.8 in /usr/local/lib/python3.6/dist-packages (from tensorboard<2.1.0,>=2.0.0->tensorflow==2.0) (3.2.1)\n",
            "Requirement already satisfied: h5py in /usr/local/lib/python3.6/dist-packages (from keras-applications>=1.0.8->tensorflow==2.0) (2.8.0)\n",
            "Requirement already satisfied: chardet<3.1.0,>=3.0.2 in /usr/local/lib/python3.6/dist-packages (from requests<3,>=2.21.0->tensorboard<2.1.0,>=2.0.0->tensorflow==2.0) (3.0.4)\n",
            "Requirement already satisfied: idna<2.9,>=2.5 in /usr/local/lib/python3.6/dist-packages (from requests<3,>=2.21.0->tensorboard<2.1.0,>=2.0.0->tensorflow==2.0) (2.8)\n",
            "Requirement already satisfied: urllib3<1.25,>=1.21.1 in /usr/local/lib/python3.6/dist-packages (from requests<3,>=2.21.0->tensorboard<2.1.0,>=2.0.0->tensorflow==2.0) (1.24.3)\n",
            "Requirement already satisfied: certifi>=2017.4.17 in /usr/local/lib/python3.6/dist-packages (from requests<3,>=2.21.0->tensorboard<2.1.0,>=2.0.0->tensorflow==2.0) (2019.11.28)\n",
            "Requirement already satisfied: requests-oauthlib>=0.7.0 in /usr/local/lib/python3.6/dist-packages (from google-auth-oauthlib<0.5,>=0.4.1->tensorboard<2.1.0,>=2.0.0->tensorflow==2.0) (1.3.0)\n",
            "Requirement already satisfied: cachetools<3.2,>=2.0.0 in /usr/local/lib/python3.6/dist-packages (from google-auth<2,>=1.6.3->tensorboard<2.1.0,>=2.0.0->tensorflow==2.0) (3.1.1)\n",
            "Requirement already satisfied: pyasn1-modules>=0.2.1 in /usr/local/lib/python3.6/dist-packages (from google-auth<2,>=1.6.3->tensorboard<2.1.0,>=2.0.0->tensorflow==2.0) (0.2.8)\n",
            "Requirement already satisfied: rsa<4.1,>=3.1.4 in /usr/local/lib/python3.6/dist-packages (from google-auth<2,>=1.6.3->tensorboard<2.1.0,>=2.0.0->tensorflow==2.0) (4.0)\n",
            "Requirement already satisfied: oauthlib>=3.0.0 in /usr/local/lib/python3.6/dist-packages (from requests-oauthlib>=0.7.0->google-auth-oauthlib<0.5,>=0.4.1->tensorboard<2.1.0,>=2.0.0->tensorflow==2.0) (3.1.0)\n",
            "Requirement already satisfied: pyasn1<0.5.0,>=0.4.6 in /usr/local/lib/python3.6/dist-packages (from pyasn1-modules>=0.2.1->google-auth<2,>=1.6.3->tensorboard<2.1.0,>=2.0.0->tensorflow==2.0) (0.4.8)\n",
            "Installing collected packages: tensorflow-estimator, tensorboard, tensorflow\n",
            "  Found existing installation: tensorflow-estimator 1.15.1\n",
            "    Uninstalling tensorflow-estimator-1.15.1:\n",
            "      Successfully uninstalled tensorflow-estimator-1.15.1\n",
            "  Found existing installation: tensorboard 1.15.0\n",
            "    Uninstalling tensorboard-1.15.0:\n",
            "      Successfully uninstalled tensorboard-1.15.0\n",
            "  Found existing installation: tensorflow 1.15.0\n",
            "    Uninstalling tensorflow-1.15.0:\n",
            "      Successfully uninstalled tensorflow-1.15.0\n",
            "Successfully installed tensorboard-2.0.2 tensorflow-2.0.0 tensorflow-estimator-2.0.1\n"
          ],
          "name": "stdout"
        }
      ]
    },
    {
      "cell_type": "code",
      "metadata": {
        "id": "DvP2zoBD2Wds",
        "colab_type": "code",
        "colab": {}
      },
      "source": [
        "from tensorflow.keras import Sequential\n",
        "from tensorflow.keras.layers import Dense, Dropout, BatchNormalization, Convolution2D, MaxPooling2D, Flatten, Conv2D, MaxPool2D,LeakyReLU"
      ],
      "execution_count": 0,
      "outputs": []
    },
    {
      "cell_type": "code",
      "metadata": {
        "id": "ePPTNpc4vILO",
        "colab_type": "code",
        "colab": {
          "base_uri": "https://localhost:8080/",
          "height": 34
        },
        "outputId": "482f66b2-3c75-4eb7-d149-dde5248dc808"
      },
      "source": [
        "X_train[0]"
      ],
      "execution_count": 63,
      "outputs": [
        {
          "output_type": "execute_result",
          "data": {
            "text/plain": [
              "array([238., 236., 237., ...,  70.,  75.,  90.])"
            ]
          },
          "metadata": {
            "tags": []
          },
          "execution_count": 63
        }
      ]
    },
    {
      "cell_type": "code",
      "metadata": {
        "id": "PK1XtsS13jvp",
        "colab_type": "code",
        "colab": {}
      },
      "source": [
        "# Normalize the data\n",
        "# X_train/=255"
      ],
      "execution_count": 0,
      "outputs": []
    },
    {
      "cell_type": "code",
      "metadata": {
        "id": "BF65CfkMzBJH",
        "colab_type": "code",
        "colab": {}
      },
      "source": [
        "X_train = X_train.reshape(-1,96,96,1)"
      ],
      "execution_count": 0,
      "outputs": []
    },
    {
      "cell_type": "markdown",
      "metadata": {
        "id": "Y6DN2YfP4nl5",
        "colab_type": "text"
      },
      "source": [
        "Lets build the neural network now\n",
        "\n",
        "1. Layer 1 Conv2D with 32 Kernels and 3x3 filter\n",
        "2. Layer 2 MaxPooling Layer\n",
        "3. Layer 3 Conv2D with 32 Kernels and 3x3 filter\n",
        "4. Layer 4 MaxPooling Layer\n",
        "5. Layer 5 Conv2D with 64 Kernels and 5x5 filter\n",
        "6. Layer 6 MaxPooling Layer\n",
        "7. Dense Layer (Flatten not required as our np array is flattened) with 256 neurons\n",
        "8. Dense Layer with 256 neurons\n",
        "9. Dense Layer with 128 neurons\n",
        "10. Dense Layer with 64 neurons\n",
        "11. Final Dense Output Layer with 30 neurons (No Activation)\n",
        "\n",
        "All other activations will be LeakyReLU. Will add BatchNormalization for all layers"
      ]
    },
    {
      "cell_type": "code",
      "metadata": {
        "id": "GOaGPZPe7n9H",
        "colab_type": "code",
        "outputId": "dd04246a-449e-4cd2-c818-27ca02a88ee1",
        "colab": {
          "base_uri": "https://localhost:8080/",
          "height": 924
        }
      },
      "source": [
        "model = Sequential()\n",
        "\n",
        "# Layer 1 (This is actually 3 layers, but I am considering it as a single layer )\n",
        "model.add(Conv2D(filters=32, kernel_size=3, padding='same', input_shape=(96,96,1))) \n",
        "model.add(LeakyReLU(0.1))\n",
        "model.add(BatchNormalization())\n",
        "\n",
        "# Layer 2 \n",
        "model.add(MaxPool2D())\n",
        "\n",
        "# Layer 3 (This is actually 3 layers, but I am considering it as a single layer )\n",
        "model.add(Conv2D(filters=32, kernel_size=3, padding='same')) \n",
        "model.add(LeakyReLU(0.1))\n",
        "model.add(BatchNormalization())\n",
        "\n",
        "# Layer 4 \n",
        "model.add(MaxPool2D())\n",
        "\n",
        "# Layer 5 (This is actually 3 layers, but I am considering it as a single layer )\n",
        "model.add(Conv2D(filters=64, kernel_size=5, padding='same')) \n",
        "model.add(LeakyReLU(0.1))\n",
        "model.add(BatchNormalization())\n",
        "\n",
        "# Layer 6 \n",
        "model.add(MaxPool2D())\n",
        "\n",
        "# Layer 7\n",
        "model.add(Flatten())\n",
        "model.add(Dense(256))\n",
        "model.add(LeakyReLU(0.1))\n",
        "model.add(BatchNormalization())\n",
        "\n",
        "# Layer 8\n",
        "model.add(Dense(128))\n",
        "model.add(LeakyReLU(0.1))\n",
        "model.add(BatchNormalization())\n",
        "\n",
        "# Layer 9\n",
        "model.add(Dense(64))\n",
        "model.add(LeakyReLU(0.1))\n",
        "model.add(BatchNormalization())\n",
        "\n",
        "# Layer 10 - Output Layer with 30 outputs\n",
        "model.add(Dense(30))\n",
        "model.summary()\n"
      ],
      "execution_count": 69,
      "outputs": [
        {
          "output_type": "stream",
          "text": [
            "Model: \"sequential_4\"\n",
            "_________________________________________________________________\n",
            "Layer (type)                 Output Shape              Param #   \n",
            "=================================================================\n",
            "conv2d_12 (Conv2D)           (None, 96, 96, 32)        320       \n",
            "_________________________________________________________________\n",
            "leaky_re_lu_25 (LeakyReLU)   (None, 96, 96, 32)        0         \n",
            "_________________________________________________________________\n",
            "batch_normalization_25 (Batc (None, 96, 96, 32)        128       \n",
            "_________________________________________________________________\n",
            "max_pooling2d_12 (MaxPooling (None, 48, 48, 32)        0         \n",
            "_________________________________________________________________\n",
            "conv2d_13 (Conv2D)           (None, 48, 48, 32)        9248      \n",
            "_________________________________________________________________\n",
            "leaky_re_lu_26 (LeakyReLU)   (None, 48, 48, 32)        0         \n",
            "_________________________________________________________________\n",
            "batch_normalization_26 (Batc (None, 48, 48, 32)        128       \n",
            "_________________________________________________________________\n",
            "max_pooling2d_13 (MaxPooling (None, 24, 24, 32)        0         \n",
            "_________________________________________________________________\n",
            "conv2d_14 (Conv2D)           (None, 24, 24, 64)        51264     \n",
            "_________________________________________________________________\n",
            "leaky_re_lu_27 (LeakyReLU)   (None, 24, 24, 64)        0         \n",
            "_________________________________________________________________\n",
            "batch_normalization_27 (Batc (None, 24, 24, 64)        256       \n",
            "_________________________________________________________________\n",
            "max_pooling2d_14 (MaxPooling (None, 12, 12, 64)        0         \n",
            "_________________________________________________________________\n",
            "flatten_4 (Flatten)          (None, 9216)              0         \n",
            "_________________________________________________________________\n",
            "dense_17 (Dense)             (None, 256)               2359552   \n",
            "_________________________________________________________________\n",
            "leaky_re_lu_28 (LeakyReLU)   (None, 256)               0         \n",
            "_________________________________________________________________\n",
            "batch_normalization_28 (Batc (None, 256)               1024      \n",
            "_________________________________________________________________\n",
            "dense_18 (Dense)             (None, 128)               32896     \n",
            "_________________________________________________________________\n",
            "leaky_re_lu_29 (LeakyReLU)   (None, 128)               0         \n",
            "_________________________________________________________________\n",
            "batch_normalization_29 (Batc (None, 128)               512       \n",
            "_________________________________________________________________\n",
            "dense_19 (Dense)             (None, 64)                8256      \n",
            "_________________________________________________________________\n",
            "leaky_re_lu_30 (LeakyReLU)   (None, 64)                0         \n",
            "_________________________________________________________________\n",
            "batch_normalization_30 (Batc (None, 64)                256       \n",
            "_________________________________________________________________\n",
            "dense_20 (Dense)             (None, 30)                1950      \n",
            "=================================================================\n",
            "Total params: 2,465,790\n",
            "Trainable params: 2,464,638\n",
            "Non-trainable params: 1,152\n",
            "_________________________________________________________________\n"
          ],
          "name": "stdout"
        }
      ]
    },
    {
      "cell_type": "code",
      "metadata": {
        "id": "6MX8mQWG_vDC",
        "colab_type": "code",
        "colab": {}
      },
      "source": [
        "model.compile(optimizer='adam', \n",
        "              loss='mean_squared_error',\n",
        "              metrics=['mse'])"
      ],
      "execution_count": 0,
      "outputs": []
    },
    {
      "cell_type": "code",
      "metadata": {
        "id": "hLUWzOOIx8V-",
        "colab_type": "code",
        "colab": {
          "base_uri": "https://localhost:8080/",
          "height": 118
        },
        "outputId": "6b198553-0468-4949-9ccf-91a963ac1e95"
      },
      "source": [
        "y_train[0]"
      ],
      "execution_count": 71,
      "outputs": [
        {
          "output_type": "execute_result",
          "data": {
            "text/plain": [
              "array([66.03356391, 39.00227368, 30.22700752, 36.4216782 , 59.58207519,\n",
              "       39.64742256, 73.13034586, 39.96999699, 36.35657143, 37.3894015 ,\n",
              "       23.45287218, 37.3894015 , 56.95326316, 29.03364812, 80.22712782,\n",
              "       32.22813835, 40.22760902, 29.0023218 , 16.35637895, 29.64747068,\n",
              "       44.42057143, 57.06680301, 61.19530827, 79.97016541, 28.61449624,\n",
              "       77.38899248, 43.3126015 , 72.93545865, 43.13070677, 84.48577444])"
            ]
          },
          "metadata": {
            "tags": []
          },
          "execution_count": 71
        }
      ]
    },
    {
      "cell_type": "code",
      "metadata": {
        "id": "HS3GMcBi_0BZ",
        "colab_type": "code",
        "outputId": "dfa677cb-8621-4bee-e0f3-72045995b548",
        "colab": {
          "base_uri": "https://localhost:8080/",
          "height": 1000
        }
      },
      "source": [
        "model.fit(X_train,y_train,epochs = 50,batch_size = 200,validation_split = 0.2,verbose=True)"
      ],
      "execution_count": 72,
      "outputs": [
        {
          "output_type": "stream",
          "text": [
            "Train on 5639 samples, validate on 1410 samples\n",
            "Epoch 1/50\n",
            "5639/5639 [==============================] - 127s 23ms/sample - loss: 2663.1287 - mse: 2663.1287 - val_loss: 2746.5174 - val_mse: 2746.5173\n",
            "Epoch 2/50\n",
            "5639/5639 [==============================] - 123s 22ms/sample - loss: 2642.9863 - mse: 2642.9868 - val_loss: 2629.2824 - val_mse: 2629.2827\n",
            "Epoch 3/50\n",
            "5639/5639 [==============================] - 122s 22ms/sample - loss: 2602.3390 - mse: 2602.3394 - val_loss: 2574.3659 - val_mse: 2574.3657\n",
            "Epoch 4/50\n",
            "5639/5639 [==============================] - 121s 22ms/sample - loss: 2535.8879 - mse: 2535.8877 - val_loss: 2524.7043 - val_mse: 2524.7043\n",
            "Epoch 5/50\n",
            "5639/5639 [==============================] - 121s 22ms/sample - loss: 2443.6736 - mse: 2443.6736 - val_loss: 2378.9502 - val_mse: 2378.9502\n",
            "Epoch 6/50\n",
            "5639/5639 [==============================] - 120s 21ms/sample - loss: 2327.8780 - mse: 2327.8782 - val_loss: 2287.7548 - val_mse: 2287.7546\n",
            "Epoch 7/50\n",
            "5639/5639 [==============================] - 120s 21ms/sample - loss: 2191.6266 - mse: 2191.6267 - val_loss: 2102.6557 - val_mse: 2102.6555\n",
            "Epoch 8/50\n",
            "5639/5639 [==============================] - 121s 21ms/sample - loss: 2039.0924 - mse: 2039.0924 - val_loss: 1897.8491 - val_mse: 1897.8492\n",
            "Epoch 9/50\n",
            "5639/5639 [==============================] - 120s 21ms/sample - loss: 1874.5124 - mse: 1874.5122 - val_loss: 1806.8902 - val_mse: 1806.8903\n",
            "Epoch 10/50\n",
            "5639/5639 [==============================] - 120s 21ms/sample - loss: 1702.9474 - mse: 1702.9474 - val_loss: 1580.5326 - val_mse: 1580.5328\n",
            "Epoch 11/50\n",
            "5639/5639 [==============================] - 119s 21ms/sample - loss: 1528.9576 - mse: 1528.9576 - val_loss: 1475.5785 - val_mse: 1475.5785\n",
            "Epoch 12/50\n",
            "5639/5639 [==============================] - 119s 21ms/sample - loss: 1357.0280 - mse: 1357.0281 - val_loss: 1304.1341 - val_mse: 1304.1342\n",
            "Epoch 13/50\n",
            "5639/5639 [==============================] - 119s 21ms/sample - loss: 1190.8342 - mse: 1190.8342 - val_loss: 1150.3395 - val_mse: 1150.3395\n",
            "Epoch 14/50\n",
            "5639/5639 [==============================] - 118s 21ms/sample - loss: 1033.7826 - mse: 1033.7825 - val_loss: 965.8850 - val_mse: 965.8850\n",
            "Epoch 15/50\n",
            "5639/5639 [==============================] - 118s 21ms/sample - loss: 888.5709 - mse: 888.5709 - val_loss: 818.7381 - val_mse: 818.7381\n",
            "Epoch 16/50\n",
            "5639/5639 [==============================] - 118s 21ms/sample - loss: 756.8736 - mse: 756.8735 - val_loss: 712.3208 - val_mse: 712.3209\n",
            "Epoch 17/50\n",
            "5639/5639 [==============================] - 118s 21ms/sample - loss: 639.5461 - mse: 639.5461 - val_loss: 606.8813 - val_mse: 606.8813\n",
            "Epoch 18/50\n",
            "5639/5639 [==============================] - 119s 21ms/sample - loss: 536.8480 - mse: 536.8480 - val_loss: 495.6305 - val_mse: 495.6305\n",
            "Epoch 19/50\n",
            "5639/5639 [==============================] - 119s 21ms/sample - loss: 447.7511 - mse: 447.7511 - val_loss: 412.6587 - val_mse: 412.6586\n",
            "Epoch 20/50\n",
            "5639/5639 [==============================] - 119s 21ms/sample - loss: 371.7256 - mse: 371.7256 - val_loss: 345.3539 - val_mse: 345.3539\n",
            "Epoch 21/50\n",
            "5639/5639 [==============================] - 118s 21ms/sample - loss: 307.2965 - mse: 307.2964 - val_loss: 274.8275 - val_mse: 274.8275\n",
            "Epoch 22/50\n",
            "5639/5639 [==============================] - 118s 21ms/sample - loss: 253.2794 - mse: 253.2793 - val_loss: 237.0781 - val_mse: 237.0781\n",
            "Epoch 23/50\n",
            "5639/5639 [==============================] - 119s 21ms/sample - loss: 208.0184 - mse: 208.0184 - val_loss: 189.4088 - val_mse: 189.4088\n",
            "Epoch 24/50\n",
            "5639/5639 [==============================] - 117s 21ms/sample - loss: 170.1641 - mse: 170.1641 - val_loss: 161.0592 - val_mse: 161.0592\n",
            "Epoch 25/50\n",
            "5639/5639 [==============================] - 118s 21ms/sample - loss: 138.6773 - mse: 138.6772 - val_loss: 132.9760 - val_mse: 132.9760\n",
            "Epoch 26/50\n",
            "5639/5639 [==============================] - 118s 21ms/sample - loss: 112.8027 - mse: 112.8027 - val_loss: 111.0218 - val_mse: 111.0218\n",
            "Epoch 27/50\n",
            "5639/5639 [==============================] - 118s 21ms/sample - loss: 91.2132 - mse: 91.2132 - val_loss: 82.6043 - val_mse: 82.6043\n",
            "Epoch 28/50\n",
            "5639/5639 [==============================] - 118s 21ms/sample - loss: 73.7338 - mse: 73.7338 - val_loss: 64.6270 - val_mse: 64.6270\n",
            "Epoch 29/50\n",
            "5639/5639 [==============================] - 117s 21ms/sample - loss: 59.1473 - mse: 59.1473 - val_loss: 58.6809 - val_mse: 58.6809\n",
            "Epoch 30/50\n",
            "5639/5639 [==============================] - 118s 21ms/sample - loss: 47.3954 - mse: 47.3954 - val_loss: 42.3615 - val_mse: 42.3615\n",
            "Epoch 31/50\n",
            "5639/5639 [==============================] - 118s 21ms/sample - loss: 37.8962 - mse: 37.8962 - val_loss: 35.9263 - val_mse: 35.9263\n",
            "Epoch 32/50\n",
            "5639/5639 [==============================] - 119s 21ms/sample - loss: 30.2374 - mse: 30.2374 - val_loss: 30.4440 - val_mse: 30.4440\n",
            "Epoch 33/50\n",
            "5639/5639 [==============================] - 118s 21ms/sample - loss: 24.2160 - mse: 24.2160 - val_loss: 21.3313 - val_mse: 21.3313\n",
            "Epoch 34/50\n",
            "5639/5639 [==============================] - 118s 21ms/sample - loss: 19.3635 - mse: 19.3635 - val_loss: 22.1994 - val_mse: 22.1994\n",
            "Epoch 35/50\n",
            "5639/5639 [==============================] - 118s 21ms/sample - loss: 15.6229 - mse: 15.6229 - val_loss: 15.1739 - val_mse: 15.1739\n",
            "Epoch 36/50\n",
            "5639/5639 [==============================] - 118s 21ms/sample - loss: 12.5056 - mse: 12.5056 - val_loss: 13.1218 - val_mse: 13.1218\n",
            "Epoch 37/50\n",
            "5639/5639 [==============================] - 117s 21ms/sample - loss: 10.1190 - mse: 10.1190 - val_loss: 9.7538 - val_mse: 9.7538\n",
            "Epoch 38/50\n",
            "5639/5639 [==============================] - 118s 21ms/sample - loss: 8.3154 - mse: 8.3154 - val_loss: 7.7542 - val_mse: 7.7542\n",
            "Epoch 39/50\n",
            "5639/5639 [==============================] - 119s 21ms/sample - loss: 6.8086 - mse: 6.8086 - val_loss: 8.0885 - val_mse: 8.0885\n",
            "Epoch 40/50\n",
            "5639/5639 [==============================] - 118s 21ms/sample - loss: 5.7185 - mse: 5.7185 - val_loss: 6.0060 - val_mse: 6.0060\n",
            "Epoch 41/50\n",
            "5639/5639 [==============================] - 118s 21ms/sample - loss: 4.8492 - mse: 4.8492 - val_loss: 5.4285 - val_mse: 5.4285\n",
            "Epoch 42/50\n",
            "5639/5639 [==============================] - 118s 21ms/sample - loss: 4.2395 - mse: 4.2395 - val_loss: 4.9238 - val_mse: 4.9238\n",
            "Epoch 43/50\n",
            "5639/5639 [==============================] - 118s 21ms/sample - loss: 3.6872 - mse: 3.6872 - val_loss: 4.7176 - val_mse: 4.7176\n",
            "Epoch 44/50\n",
            "5639/5639 [==============================] - 119s 21ms/sample - loss: 3.1992 - mse: 3.1992 - val_loss: 4.1795 - val_mse: 4.1795\n",
            "Epoch 45/50\n",
            "5639/5639 [==============================] - 118s 21ms/sample - loss: 2.8469 - mse: 2.8469 - val_loss: 3.5308 - val_mse: 3.5308\n",
            "Epoch 46/50\n",
            "5639/5639 [==============================] - 119s 21ms/sample - loss: 2.5738 - mse: 2.5738 - val_loss: 3.5724 - val_mse: 3.5724\n",
            "Epoch 47/50\n",
            "5639/5639 [==============================] - 119s 21ms/sample - loss: 2.3967 - mse: 2.3967 - val_loss: 3.5222 - val_mse: 3.5222\n",
            "Epoch 48/50\n",
            "5639/5639 [==============================] - 119s 21ms/sample - loss: 2.2236 - mse: 2.2236 - val_loss: 3.0484 - val_mse: 3.0484\n",
            "Epoch 49/50\n",
            "5639/5639 [==============================] - 120s 21ms/sample - loss: 2.1466 - mse: 2.1466 - val_loss: 3.1217 - val_mse: 3.1217\n",
            "Epoch 50/50\n",
            "5639/5639 [==============================] - 120s 21ms/sample - loss: 2.1172 - mse: 2.1172 - val_loss: 2.6253 - val_mse: 2.6253\n"
          ],
          "name": "stdout"
        },
        {
          "output_type": "execute_result",
          "data": {
            "text/plain": [
              "<tensorflow.python.keras.callbacks.History at 0x7fde53319860>"
            ]
          },
          "metadata": {
            "tags": []
          },
          "execution_count": 72
        }
      ]
    },
    {
      "cell_type": "code",
      "metadata": {
        "id": "PeWYjdrS7Fg1",
        "colab_type": "code",
        "colab": {
          "base_uri": "https://localhost:8080/",
          "height": 202
        },
        "outputId": "3b243cf7-487d-4446-8dbb-626182d48be9"
      },
      "source": [
        "# Let's predict one record\n",
        "\n",
        "y_pred = model.predict(X_train[1].reshape(-1,96,96,1))\n",
        "print(y_pred)\n",
        "y_train[1]"
      ],
      "execution_count": 73,
      "outputs": [
        {
          "output_type": "stream",
          "text": [
            "[[64.55844  35.896435 30.015228 35.840595 58.995464 37.16179  70.74817\n",
            "  36.79895  35.56499  35.198696 23.453394 34.52702  54.37017  27.970665\n",
            "  76.53163  31.671783 42.025978 27.153229 17.137451 27.662815 47.786186\n",
            "  56.755203 57.590473 75.894066 33.887085 75.185    46.14827  70.52866\n",
            "  46.300236 83.13913 ]]\n"
          ],
          "name": "stdout"
        },
        {
          "output_type": "execute_result",
          "data": {
            "text/plain": [
              "array([64.33293617, 34.9700766 , 29.9492766 , 33.44871489, 58.85617021,\n",
              "       35.27434894, 70.7227234 , 36.18716596, 36.0347234 , 34.36153191,\n",
              "       24.47251064, 33.14444255, 53.98740426, 28.27594894, 78.63421277,\n",
              "       30.4059234 , 42.72885106, 26.14604255, 16.8653617 , 27.05885957,\n",
              "       48.20629787, 55.66093617, 56.42144681, 76.352     , 35.12238298,\n",
              "       76.04765957, 46.68459574, 70.26655319, 45.46791489, 85.48017021])"
            ]
          },
          "metadata": {
            "tags": []
          },
          "execution_count": 73
        }
      ]
    },
    {
      "cell_type": "code",
      "metadata": {
        "id": "PqAezmUe7FSz",
        "colab_type": "code",
        "colab": {
          "base_uri": "https://localhost:8080/",
          "height": 195
        },
        "outputId": "1af34b53-b8eb-4af7-8dea-737702cb831d"
      },
      "source": [
        "test_data.head()"
      ],
      "execution_count": 75,
      "outputs": [
        {
          "output_type": "execute_result",
          "data": {
            "text/html": [
              "<div>\n",
              "<style scoped>\n",
              "    .dataframe tbody tr th:only-of-type {\n",
              "        vertical-align: middle;\n",
              "    }\n",
              "\n",
              "    .dataframe tbody tr th {\n",
              "        vertical-align: top;\n",
              "    }\n",
              "\n",
              "    .dataframe thead th {\n",
              "        text-align: right;\n",
              "    }\n",
              "</style>\n",
              "<table border=\"1\" class=\"dataframe\">\n",
              "  <thead>\n",
              "    <tr style=\"text-align: right;\">\n",
              "      <th></th>\n",
              "      <th>ImageId</th>\n",
              "      <th>Image</th>\n",
              "    </tr>\n",
              "  </thead>\n",
              "  <tbody>\n",
              "    <tr>\n",
              "      <th>0</th>\n",
              "      <td>1</td>\n",
              "      <td>182 183 182 182 180 180 176 169 156 137 124 10...</td>\n",
              "    </tr>\n",
              "    <tr>\n",
              "      <th>1</th>\n",
              "      <td>2</td>\n",
              "      <td>76 87 81 72 65 59 64 76 69 42 31 38 49 58 58 4...</td>\n",
              "    </tr>\n",
              "    <tr>\n",
              "      <th>2</th>\n",
              "      <td>3</td>\n",
              "      <td>177 176 174 170 169 169 168 166 166 166 161 14...</td>\n",
              "    </tr>\n",
              "    <tr>\n",
              "      <th>3</th>\n",
              "      <td>4</td>\n",
              "      <td>176 174 174 175 174 174 176 176 175 171 165 15...</td>\n",
              "    </tr>\n",
              "    <tr>\n",
              "      <th>4</th>\n",
              "      <td>5</td>\n",
              "      <td>50 47 44 101 144 149 120 58 48 42 35 35 37 39 ...</td>\n",
              "    </tr>\n",
              "  </tbody>\n",
              "</table>\n",
              "</div>"
            ],
            "text/plain": [
              "   ImageId                                              Image\n",
              "0        1  182 183 182 182 180 180 176 169 156 137 124 10...\n",
              "1        2  76 87 81 72 65 59 64 76 69 42 31 38 49 58 58 4...\n",
              "2        3  177 176 174 170 169 169 168 166 166 166 161 14...\n",
              "3        4  176 174 174 175 174 174 176 176 175 171 165 15...\n",
              "4        5  50 47 44 101 144 149 120 58 48 42 35 35 37 39 ..."
            ]
          },
          "metadata": {
            "tags": []
          },
          "execution_count": 75
        }
      ]
    },
    {
      "cell_type": "code",
      "metadata": {
        "id": "gLupobjpVekV",
        "colab_type": "code",
        "colab": {
          "base_uri": "https://localhost:8080/",
          "height": 34
        },
        "outputId": "31998231-c439-4514-ddb1-08aef5a61eb6"
      },
      "source": [
        "test_data.shape"
      ],
      "execution_count": 76,
      "outputs": [
        {
          "output_type": "execute_result",
          "data": {
            "text/plain": [
              "(1783, 2)"
            ]
          },
          "metadata": {
            "tags": []
          },
          "execution_count": 76
        }
      ]
    },
    {
      "cell_type": "code",
      "metadata": {
        "id": "h7-tz5FSVZSi",
        "colab_type": "code",
        "colab": {}
      },
      "source": [
        "timage = []\n",
        "for i in range(0,test_data.shape[0]):\n",
        "  imgtmp = test_data['Image'][i].split(' ')\n",
        "  imgtmp = ['0' if x == '' else x for x in imgtmp]\n",
        "  timage.append(imgtmp)"
      ],
      "execution_count": 0,
      "outputs": []
    },
    {
      "cell_type": "code",
      "metadata": {
        "id": "R41s4T1JVyDL",
        "colab_type": "code",
        "colab": {
          "base_uri": "https://localhost:8080/",
          "height": 34
        },
        "outputId": "f48d74d9-6e47-4db0-a314-d80f7d057184"
      },
      "source": [
        "X_test = np.array(timage,dtype=float).reshape(-1,96,96,1)\n",
        "X_test.shape"
      ],
      "execution_count": 84,
      "outputs": [
        {
          "output_type": "execute_result",
          "data": {
            "text/plain": [
              "(1783, 96, 96, 1)"
            ]
          },
          "metadata": {
            "tags": []
          },
          "execution_count": 84
        }
      ]
    },
    {
      "cell_type": "code",
      "metadata": {
        "id": "Ot5HUKMTV3HM",
        "colab_type": "code",
        "colab": {
          "base_uri": "https://localhost:8080/",
          "height": 34
        },
        "outputId": "30f7e4fd-bdac-4d87-896f-003547581787"
      },
      "source": [
        "X_train.shape"
      ],
      "execution_count": 83,
      "outputs": [
        {
          "output_type": "execute_result",
          "data": {
            "text/plain": [
              "(7049, 96, 96, 1)"
            ]
          },
          "metadata": {
            "tags": []
          },
          "execution_count": 83
        }
      ]
    },
    {
      "cell_type": "code",
      "metadata": {
        "id": "QXarpxG_WZ6T",
        "colab_type": "code",
        "colab": {}
      },
      "source": [
        "predictions = pd.DataFrame(model.predict(X_test),columns=train_data.columns[0:30])"
      ],
      "execution_count": 0,
      "outputs": []
    },
    {
      "cell_type": "code",
      "metadata": {
        "id": "B3L3d1S0Wh9Y",
        "colab_type": "code",
        "colab": {
          "base_uri": "https://localhost:8080/",
          "height": 282
        },
        "outputId": "5a9c0da7-317e-4008-b482-680ff7af36e4"
      },
      "source": [
        "# Let's now print 5 test images and apply our markers on them using predicted values\n",
        "\n",
        "plt.figure(figsize=(24, 24))\n",
        "for i in range(0,5):\n",
        "  plt.subplot(1, 5, i + 1)\n",
        "  plt.imshow(X_test[i].reshape(96,96),cmap='gray')\n",
        "  plt.scatter(predictions['left_eye_center_x'][i],predictions['left_eye_center_y'][i],c='r',s=12)\n",
        "  plt.scatter(predictions['right_eye_center_x'][i],predictions['right_eye_center_y'][i],c='r',s=12)\n",
        "  plt.scatter(predictions['left_eye_inner_corner_x'][i],predictions['left_eye_inner_corner_y'][i],c='b',s=12)\n",
        "  plt.scatter(predictions['left_eye_outer_corner_x'][i],predictions['left_eye_outer_corner_y'][i],c='b',s=12)\n",
        "  plt.scatter(predictions['right_eye_inner_corner_x'][i],predictions['right_eye_inner_corner_y'][i],c='b',s=12)\n",
        "  plt.scatter(predictions['right_eye_outer_corner_x'][i],predictions['right_eye_outer_corner_y'][i],c='b',s=12)\n",
        "  plt.scatter(predictions['left_eyebrow_inner_end_x'][i],predictions['left_eyebrow_inner_end_y'][i],c='g',s=12)\n",
        "  plt.scatter(predictions['left_eyebrow_outer_end_x'][i],predictions['left_eyebrow_outer_end_y'][i],c='g',s=12)\n",
        "  plt.scatter(predictions['right_eyebrow_inner_end_x'][i],predictions['right_eyebrow_inner_end_y'][i],c='g',s=12)\n",
        "  plt.scatter(predictions['right_eyebrow_outer_end_x'][i],predictions['right_eyebrow_outer_end_y'][i],c='g',s=12)\n",
        "  plt.scatter(predictions['nose_tip_x'][i],predictions['nose_tip_y'][i],c='r',s=12)\n",
        "  plt.scatter(predictions['mouth_left_corner_x'][i],predictions['mouth_left_corner_y'][i],c='y',s=12)\n",
        "  plt.scatter(predictions['mouth_right_corner_x'][i],predictions['mouth_right_corner_y'][i],c='y',s=12)\n",
        "  plt.scatter(predictions['mouth_center_top_lip_x'][i],predictions['mouth_center_top_lip_y'][i],c='y',s=12)\n",
        "  plt.scatter(predictions['mouth_center_bottom_lip_x'][i],predictions['mouth_center_bottom_lip_y'][i],c='y',s=12)\n",
        "plt.show()"
      ],
      "execution_count": 98,
      "outputs": [
        {
          "output_type": "display_data",
          "data": {
            "image/png": "[encoded data removed]",
            "text/plain": [
              "<Figure size 1728x1728 with 5 Axes>"
            ]
          },
          "metadata": {
            "tags": []
          }
        }
      ]
    },
    {
      "cell_type": "code",
      "metadata": {
        "id": "mnQooi8Oi2Mu",
        "colab_type": "code",
        "colab": {
          "base_uri": "https://localhost:8080/",
          "height": 215
        },
        "outputId": "e0a14a92-6cb9-4bdd-d5c5-720d22406044"
      },
      "source": [
        "predictions.head()"
      ],
      "execution_count": 100,
      "outputs": [
        {
          "output_type": "execute_result",
          "data": {
            "text/html": [
              "<div>\n",
              "<style scoped>\n",
              "    .dataframe tbody tr th:only-of-type {\n",
              "        vertical-align: middle;\n",
              "    }\n",
              "\n",
              "    .dataframe tbody tr th {\n",
              "        vertical-align: top;\n",
              "    }\n",
              "\n",
              "    .dataframe thead th {\n",
              "        text-align: right;\n",
              "    }\n",
              "</style>\n",
              "<table border=\"1\" class=\"dataframe\">\n",
              "  <thead>\n",
              "    <tr style=\"text-align: right;\">\n",
              "      <th></th>\n",
              "      <th>left_eye_center_x</th>\n",
              "      <th>left_eye_center_y</th>\n",
              "      <th>right_eye_center_x</th>\n",
              "      <th>right_eye_center_y</th>\n",
              "      <th>left_eye_inner_corner_x</th>\n",
              "      <th>left_eye_inner_corner_y</th>\n",
              "      <th>left_eye_outer_corner_x</th>\n",
              "      <th>left_eye_outer_corner_y</th>\n",
              "      <th>right_eye_inner_corner_x</th>\n",
              "      <th>right_eye_inner_corner_y</th>\n",
              "      <th>right_eye_outer_corner_x</th>\n",
              "      <th>right_eye_outer_corner_y</th>\n",
              "      <th>left_eyebrow_inner_end_x</th>\n",
              "      <th>left_eyebrow_inner_end_y</th>\n",
              "      <th>left_eyebrow_outer_end_x</th>\n",
              "      <th>left_eyebrow_outer_end_y</th>\n",
              "      <th>right_eyebrow_inner_end_x</th>\n",
              "      <th>right_eyebrow_inner_end_y</th>\n",
              "      <th>right_eyebrow_outer_end_x</th>\n",
              "      <th>right_eyebrow_outer_end_y</th>\n",
              "      <th>nose_tip_x</th>\n",
              "      <th>nose_tip_y</th>\n",
              "      <th>mouth_left_corner_x</th>\n",
              "      <th>mouth_left_corner_y</th>\n",
              "      <th>mouth_right_corner_x</th>\n",
              "      <th>mouth_right_corner_y</th>\n",
              "      <th>mouth_center_top_lip_x</th>\n",
              "      <th>mouth_center_top_lip_y</th>\n",
              "      <th>mouth_center_bottom_lip_x</th>\n",
              "      <th>mouth_center_bottom_lip_y</th>\n",
              "    </tr>\n",
              "  </thead>\n",
              "  <tbody>\n",
              "    <tr>\n",
              "      <th>0</th>\n",
              "      <td>67.001068</td>\n",
              "      <td>36.532639</td>\n",
              "      <td>28.982258</td>\n",
              "      <td>36.588299</td>\n",
              "      <td>60.571590</td>\n",
              "      <td>36.757202</td>\n",
              "      <td>72.855423</td>\n",
              "      <td>37.510628</td>\n",
              "      <td>36.078873</td>\n",
              "      <td>36.690105</td>\n",
              "      <td>21.889698</td>\n",
              "      <td>37.575443</td>\n",
              "      <td>58.271458</td>\n",
              "      <td>25.278646</td>\n",
              "      <td>78.856461</td>\n",
              "      <td>27.452679</td>\n",
              "      <td>37.664085</td>\n",
              "      <td>25.221653</td>\n",
              "      <td>13.781410</td>\n",
              "      <td>28.925707</td>\n",
              "      <td>50.076027</td>\n",
              "      <td>54.099979</td>\n",
              "      <td>65.181488</td>\n",
              "      <td>74.815575</td>\n",
              "      <td>33.174175</td>\n",
              "      <td>75.571526</td>\n",
              "      <td>48.369892</td>\n",
              "      <td>69.074104</td>\n",
              "      <td>48.372910</td>\n",
              "      <td>81.505547</td>\n",
              "    </tr>\n",
              "    <tr>\n",
              "      <th>1</th>\n",
              "      <td>68.942558</td>\n",
              "      <td>37.341171</td>\n",
              "      <td>28.150637</td>\n",
              "      <td>38.866650</td>\n",
              "      <td>60.842861</td>\n",
              "      <td>37.947868</td>\n",
              "      <td>74.160461</td>\n",
              "      <td>38.770901</td>\n",
              "      <td>35.284172</td>\n",
              "      <td>38.975136</td>\n",
              "      <td>20.880289</td>\n",
              "      <td>39.738926</td>\n",
              "      <td>56.622921</td>\n",
              "      <td>31.243708</td>\n",
              "      <td>80.381638</td>\n",
              "      <td>30.544460</td>\n",
              "      <td>37.484043</td>\n",
              "      <td>31.308981</td>\n",
              "      <td>14.378936</td>\n",
              "      <td>32.594757</td>\n",
              "      <td>48.842907</td>\n",
              "      <td>59.126972</td>\n",
              "      <td>65.906448</td>\n",
              "      <td>76.514786</td>\n",
              "      <td>33.744938</td>\n",
              "      <td>77.131096</td>\n",
              "      <td>49.253952</td>\n",
              "      <td>72.930023</td>\n",
              "      <td>48.955875</td>\n",
              "      <td>85.494179</td>\n",
              "    </tr>\n",
              "    <tr>\n",
              "      <th>2</th>\n",
              "      <td>66.481712</td>\n",
              "      <td>38.097172</td>\n",
              "      <td>31.794239</td>\n",
              "      <td>38.677441</td>\n",
              "      <td>60.190357</td>\n",
              "      <td>37.334137</td>\n",
              "      <td>71.368011</td>\n",
              "      <td>37.673241</td>\n",
              "      <td>36.983974</td>\n",
              "      <td>38.711430</td>\n",
              "      <td>24.594332</td>\n",
              "      <td>39.346115</td>\n",
              "      <td>57.436356</td>\n",
              "      <td>30.523497</td>\n",
              "      <td>75.311302</td>\n",
              "      <td>29.100855</td>\n",
              "      <td>40.058941</td>\n",
              "      <td>30.704655</td>\n",
              "      <td>18.970222</td>\n",
              "      <td>33.120258</td>\n",
              "      <td>49.135284</td>\n",
              "      <td>57.705032</td>\n",
              "      <td>64.092690</td>\n",
              "      <td>74.627144</td>\n",
              "      <td>36.838524</td>\n",
              "      <td>75.152000</td>\n",
              "      <td>49.868862</td>\n",
              "      <td>71.097832</td>\n",
              "      <td>49.103931</td>\n",
              "      <td>81.579811</td>\n",
              "    </tr>\n",
              "    <tr>\n",
              "      <th>3</th>\n",
              "      <td>65.126923</td>\n",
              "      <td>38.608147</td>\n",
              "      <td>30.907377</td>\n",
              "      <td>40.794479</td>\n",
              "      <td>58.341358</td>\n",
              "      <td>38.957230</td>\n",
              "      <td>71.663055</td>\n",
              "      <td>39.317177</td>\n",
              "      <td>36.305752</td>\n",
              "      <td>39.909290</td>\n",
              "      <td>23.520964</td>\n",
              "      <td>41.337078</td>\n",
              "      <td>55.332832</td>\n",
              "      <td>31.378565</td>\n",
              "      <td>76.296349</td>\n",
              "      <td>30.663723</td>\n",
              "      <td>38.332058</td>\n",
              "      <td>31.642044</td>\n",
              "      <td>17.191565</td>\n",
              "      <td>34.836346</td>\n",
              "      <td>47.186527</td>\n",
              "      <td>55.831848</td>\n",
              "      <td>66.136948</td>\n",
              "      <td>75.931381</td>\n",
              "      <td>33.440655</td>\n",
              "      <td>76.387001</td>\n",
              "      <td>48.112640</td>\n",
              "      <td>72.108246</td>\n",
              "      <td>47.656242</td>\n",
              "      <td>80.185684</td>\n",
              "    </tr>\n",
              "    <tr>\n",
              "      <th>4</th>\n",
              "      <td>66.852676</td>\n",
              "      <td>36.526096</td>\n",
              "      <td>27.421492</td>\n",
              "      <td>38.802002</td>\n",
              "      <td>59.950222</td>\n",
              "      <td>37.239189</td>\n",
              "      <td>72.729980</td>\n",
              "      <td>37.962185</td>\n",
              "      <td>35.026108</td>\n",
              "      <td>38.308018</td>\n",
              "      <td>21.111502</td>\n",
              "      <td>40.201645</td>\n",
              "      <td>56.042389</td>\n",
              "      <td>27.121490</td>\n",
              "      <td>78.372101</td>\n",
              "      <td>28.707636</td>\n",
              "      <td>36.799633</td>\n",
              "      <td>28.739820</td>\n",
              "      <td>13.970059</td>\n",
              "      <td>33.506001</td>\n",
              "      <td>47.802280</td>\n",
              "      <td>53.401119</td>\n",
              "      <td>64.663139</td>\n",
              "      <td>76.066132</td>\n",
              "      <td>34.232880</td>\n",
              "      <td>75.974388</td>\n",
              "      <td>48.323868</td>\n",
              "      <td>70.277367</td>\n",
              "      <td>49.110336</td>\n",
              "      <td>83.416283</td>\n",
              "    </tr>\n",
              "  </tbody>\n",
              "</table>\n",
              "</div>"
            ],
            "text/plain": [
              "   left_eye_center_x  ...  mouth_center_bottom_lip_y\n",
              "0          67.001068  ...                  81.505547\n",
              "1          68.942558  ...                  85.494179\n",
              "2          66.481712  ...                  81.579811\n",
              "3          65.126923  ...                  80.185684\n",
              "4          66.852676  ...                  83.416283\n",
              "\n",
              "[5 rows x 30 columns]"
            ]
          },
          "metadata": {
            "tags": []
          },
          "execution_count": 100
        }
      ]
    },
    {
      "cell_type": "code",
      "metadata": {
        "id": "7X6Jd3q_jDmz",
        "colab_type": "code",
        "colab": {
          "base_uri": "https://localhost:8080/",
          "height": 50
        },
        "outputId": "9d31ba84-7391-4fa2-9b75-0717d62a525c"
      },
      "source": [
        "print(test_data.shape)\n",
        "print(predictions.shape)"
      ],
      "execution_count": 102,
      "outputs": [
        {
          "output_type": "stream",
          "text": [
            "(1783, 2)\n",
            "(1783, 30)\n"
          ],
          "name": "stdout"
        }
      ]
    },
    {
      "cell_type": "code",
      "metadata": {
        "id": "9KTQhSu3jONy",
        "colab_type": "code",
        "colab": {}
      },
      "source": [
        "final_predicted_values = pd.concat([test_data,predictions],axis=1,sort=False)"
      ],
      "execution_count": 0,
      "outputs": []
    },
    {
      "cell_type": "code",
      "metadata": {
        "id": "Zo0qpvMFj_VQ",
        "colab_type": "code",
        "colab": {
          "base_uri": "https://localhost:8080/",
          "height": 50
        },
        "outputId": "f90db35e-41a4-43af-8daa-b159ee1c84e3"
      },
      "source": [
        "print(final_predicted_values.shape)\n",
        "print(train_data.shape)"
      ],
      "execution_count": 105,
      "outputs": [
        {
          "output_type": "stream",
          "text": [
            "(1783, 32)\n",
            "(7049, 31)\n"
          ],
          "name": "stdout"
        }
      ]
    },
    {
      "cell_type": "code",
      "metadata": {
        "id": "pHL9GJLYkGQH",
        "colab_type": "code",
        "colab": {
          "base_uri": "https://localhost:8080/",
          "height": 1000
        },
        "outputId": "24682a18-e261-452a-bfa9-ae82ba0bab8d"
      },
      "source": [
        "final_predicted_values.head()"
      ],
      "execution_count": 106,
      "outputs": [
        {
          "output_type": "execute_result",
          "data": {
            "text/html": [
              "<div>\n",
              "<style scoped>\n",
              "    .dataframe tbody tr th:only-of-type {\n",
              "        vertical-align: middle;\n",
              "    }\n",
              "\n",
              "    .dataframe tbody tr th {\n",
              "        vertical-align: top;\n",
              "    }\n",
              "\n",
              "    .dataframe thead th {\n",
              "        text-align: right;\n",
              "    }\n",
              "</style>\n",
              "<table border=\"1\" class=\"dataframe\">\n",
              "  <thead>\n",
              "    <tr style=\"text-align: right;\">\n",
              "      <th></th>\n",
              "      <th>ImageId</th>\n",
              "      <th>Image</th>\n",
              "      <th>left_eye_center_x</th>\n",
              "      <th>left_eye_center_y</th>\n",
              "      <th>right_eye_center_x</th>\n",
              "      <th>right_eye_center_y</th>\n",
              "      <th>left_eye_inner_corner_x</th>\n",
              "      <th>left_eye_inner_corner_y</th>\n",
              "      <th>left_eye_outer_corner_x</th>\n",
              "      <th>left_eye_outer_corner_y</th>\n",
              "      <th>right_eye_inner_corner_x</th>\n",
              "      <th>right_eye_inner_corner_y</th>\n",
              "      <th>right_eye_outer_corner_x</th>\n",
              "      <th>right_eye_outer_corner_y</th>\n",
              "      <th>left_eyebrow_inner_end_x</th>\n",
              "      <th>left_eyebrow_inner_end_y</th>\n",
              "      <th>left_eyebrow_outer_end_x</th>\n",
              "      <th>left_eyebrow_outer_end_y</th>\n",
              "      <th>right_eyebrow_inner_end_x</th>\n",
              "      <th>right_eyebrow_inner_end_y</th>\n",
              "      <th>right_eyebrow_outer_end_x</th>\n",
              "      <th>right_eyebrow_outer_end_y</th>\n",
              "      <th>nose_tip_x</th>\n",
              "      <th>nose_tip_y</th>\n",
              "      <th>mouth_left_corner_x</th>\n",
              "      <th>mouth_left_corner_y</th>\n",
              "      <th>mouth_right_corner_x</th>\n",
              "      <th>mouth_right_corner_y</th>\n",
              "      <th>mouth_center_top_lip_x</th>\n",
              "      <th>mouth_center_top_lip_y</th>\n",
              "      <th>mouth_center_bottom_lip_x</th>\n",
              "      <th>mouth_center_bottom_lip_y</th>\n",
              "    </tr>\n",
              "  </thead>\n",
              "  <tbody>\n",
              "    <tr>\n",
              "      <th>0</th>\n",
              "      <td>1</td>\n",
              "      <td>182 183 182 182 180 180 176 169 156 137 124 10...</td>\n",
              "      <td>67.001068</td>\n",
              "      <td>36.532639</td>\n",
              "      <td>28.982258</td>\n",
              "      <td>36.588299</td>\n",
              "      <td>60.571590</td>\n",
              "      <td>36.757202</td>\n",
              "      <td>72.855423</td>\n",
              "      <td>37.510628</td>\n",
              "      <td>36.078873</td>\n",
              "      <td>36.690105</td>\n",
              "      <td>21.889698</td>\n",
              "      <td>37.575443</td>\n",
              "      <td>58.271458</td>\n",
              "      <td>25.278646</td>\n",
              "      <td>78.856461</td>\n",
              "      <td>27.452679</td>\n",
              "      <td>37.664085</td>\n",
              "      <td>25.221653</td>\n",
              "      <td>13.781410</td>\n",
              "      <td>28.925707</td>\n",
              "      <td>50.076027</td>\n",
              "      <td>54.099979</td>\n",
              "      <td>65.181488</td>\n",
              "      <td>74.815575</td>\n",
              "      <td>33.174175</td>\n",
              "      <td>75.571526</td>\n",
              "      <td>48.369892</td>\n",
              "      <td>69.074104</td>\n",
              "      <td>48.372910</td>\n",
              "      <td>81.505547</td>\n",
              "    </tr>\n",
              "    <tr>\n",
              "      <th>1</th>\n",
              "      <td>2</td>\n",
              "      <td>76 87 81 72 65 59 64 76 69 42 31 38 49 58 58 4...</td>\n",
              "      <td>68.942558</td>\n",
              "      <td>37.341171</td>\n",
              "      <td>28.150637</td>\n",
              "      <td>38.866650</td>\n",
              "      <td>60.842861</td>\n",
              "      <td>37.947868</td>\n",
              "      <td>74.160461</td>\n",
              "      <td>38.770901</td>\n",
              "      <td>35.284172</td>\n",
              "      <td>38.975136</td>\n",
              "      <td>20.880289</td>\n",
              "      <td>39.738926</td>\n",
              "      <td>56.622921</td>\n",
              "      <td>31.243708</td>\n",
              "      <td>80.381638</td>\n",
              "      <td>30.544460</td>\n",
              "      <td>37.484043</td>\n",
              "      <td>31.308981</td>\n",
              "      <td>14.378936</td>\n",
              "      <td>32.594757</td>\n",
              "      <td>48.842907</td>\n",
              "      <td>59.126972</td>\n",
              "      <td>65.906448</td>\n",
              "      <td>76.514786</td>\n",
              "      <td>33.744938</td>\n",
              "      <td>77.131096</td>\n",
              "      <td>49.253952</td>\n",
              "      <td>72.930023</td>\n",
              "      <td>48.955875</td>\n",
              "      <td>85.494179</td>\n",
              "    </tr>\n",
              "    <tr>\n",
              "      <th>2</th>\n",
              "      <td>3</td>\n",
              "      <td>177 176 174 170 169 169 168 166 166 166 161 14...</td>\n",
              "      <td>66.481712</td>\n",
              "      <td>38.097172</td>\n",
              "      <td>31.794239</td>\n",
              "      <td>38.677441</td>\n",
              "      <td>60.190357</td>\n",
              "      <td>37.334137</td>\n",
              "      <td>71.368011</td>\n",
              "      <td>37.673241</td>\n",
              "      <td>36.983974</td>\n",
              "      <td>38.711430</td>\n",
              "      <td>24.594332</td>\n",
              "      <td>39.346115</td>\n",
              "      <td>57.436356</td>\n",
              "      <td>30.523497</td>\n",
              "      <td>75.311302</td>\n",
              "      <td>29.100855</td>\n",
              "      <td>40.058941</td>\n",
              "      <td>30.704655</td>\n",
              "      <td>18.970222</td>\n",
              "      <td>33.120258</td>\n",
              "      <td>49.135284</td>\n",
              "      <td>57.705032</td>\n",
              "      <td>64.092690</td>\n",
              "      <td>74.627144</td>\n",
              "      <td>36.838524</td>\n",
              "      <td>75.152000</td>\n",
              "      <td>49.868862</td>\n",
              "      <td>71.097832</td>\n",
              "      <td>49.103931</td>\n",
              "      <td>81.579811</td>\n",
              "    </tr>\n",
              "    <tr>\n",
              "      <th>3</th>\n",
              "      <td>4</td>\n",
              "      <td>176 174 174 175 174 174 176 176 175 171 165 15...</td>\n",
              "      <td>65.126923</td>\n",
              "      <td>38.608147</td>\n",
              "      <td>30.907377</td>\n",
              "      <td>40.794479</td>\n",
              "      <td>58.341358</td>\n",
              "      <td>38.957230</td>\n",
              "      <td>71.663055</td>\n",
              "      <td>39.317177</td>\n",
              "      <td>36.305752</td>\n",
              "      <td>39.909290</td>\n",
              "      <td>23.520964</td>\n",
              "      <td>41.337078</td>\n",
              "      <td>55.332832</td>\n",
              "      <td>31.378565</td>\n",
              "      <td>76.296349</td>\n",
              "      <td>30.663723</td>\n",
              "      <td>38.332058</td>\n",
              "      <td>31.642044</td>\n",
              "      <td>17.191565</td>\n",
              "      <td>34.836346</td>\n",
              "      <td>47.186527</td>\n",
              "      <td>55.831848</td>\n",
              "      <td>66.136948</td>\n",
              "      <td>75.931381</td>\n",
              "      <td>33.440655</td>\n",
              "      <td>76.387001</td>\n",
              "      <td>48.112640</td>\n",
              "      <td>72.108246</td>\n",
              "      <td>47.656242</td>\n",
              "      <td>80.185684</td>\n",
              "    </tr>\n",
              "    <tr>\n",
              "      <th>4</th>\n",
              "      <td>5</td>\n",
              "      <td>50 47 44 101 144 149 120 58 48 42 35 35 37 39 ...</td>\n",
              "      <td>66.852676</td>\n",
              "      <td>36.526096</td>\n",
              "      <td>27.421492</td>\n",
              "      <td>38.802002</td>\n",
              "      <td>59.950222</td>\n",
              "      <td>37.239189</td>\n",
              "      <td>72.729980</td>\n",
              "      <td>37.962185</td>\n",
              "      <td>35.026108</td>\n",
              "      <td>38.308018</td>\n",
              "      <td>21.111502</td>\n",
              "      <td>40.201645</td>\n",
              "      <td>56.042389</td>\n",
              "      <td>27.121490</td>\n",
              "      <td>78.372101</td>\n",
              "      <td>28.707636</td>\n",
              "      <td>36.799633</td>\n",
              "      <td>28.739820</td>\n",
              "      <td>13.970059</td>\n",
              "      <td>33.506001</td>\n",
              "      <td>47.802280</td>\n",
              "      <td>53.401119</td>\n",
              "      <td>64.663139</td>\n",
              "      <td>76.066132</td>\n",
              "      <td>34.232880</td>\n",
              "      <td>75.974388</td>\n",
              "      <td>48.323868</td>\n",
              "      <td>70.277367</td>\n",
              "      <td>49.110336</td>\n",
              "      <td>83.416283</td>\n",
              "    </tr>\n",
              "  </tbody>\n",
              "</table>\n",
              "</div>"
            ],
            "text/plain": [
              "   ImageId  ... mouth_center_bottom_lip_y\n",
              "0        1  ...                 81.505547\n",
              "1        2  ...                 85.494179\n",
              "2        3  ...                 81.579811\n",
              "3        4  ...                 80.185684\n",
              "4        5  ...                 83.416283\n",
              "\n",
              "[5 rows x 32 columns]"
            ]
          },
          "metadata": {
            "tags": []
          },
          "execution_count": 106
        }
      ]
    }
  ]
}